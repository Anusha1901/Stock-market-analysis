{
 "cells": [
  {
   "cell_type": "code",
   "execution_count": 1,
   "id": "3b35d126",
   "metadata": {
    "_cell_guid": "b1076dfc-b9ad-4769-8c92-a6c4dae69d19",
    "_uuid": "8f2839f25d086af736a60e9eeb907d3b93b6e0e5",
    "execution": {
     "iopub.execute_input": "2024-03-16T05:42:49.941348Z",
     "iopub.status.busy": "2024-03-16T05:42:49.940858Z",
     "iopub.status.idle": "2024-03-16T05:42:51.102275Z",
     "shell.execute_reply": "2024-03-16T05:42:51.100335Z"
    },
    "papermill": {
     "duration": 1.175329,
     "end_time": "2024-03-16T05:42:51.105520",
     "exception": false,
     "start_time": "2024-03-16T05:42:49.930191",
     "status": "completed"
    },
    "tags": []
   },
   "outputs": [
    {
     "name": "stdout",
     "output_type": "stream",
     "text": [
      "/kaggle/input/cac40-stocks-dataset/CAC40_stocks_2021_2023.csv\n",
      "/kaggle/input/cac40-stocks-dataset/preprocessed_CAC40.csv\n",
      "/kaggle/input/cac40-stocks-dataset/CAC40_stocks_2010_2021.csv\n"
     ]
    }
   ],
   "source": [
    "# This Python 3 environment comes with many helpful analytics libraries installed\n",
    "# It is defined by the kaggle/python Docker image: https://github.com/kaggle/docker-python\n",
    "# For example, here's several helpful packages to load\n",
    "\n",
    "import numpy as np # linear algebra\n",
    "import pandas as pd # data processing, CSV file I/O (e.g. pd.read_csv)\n",
    "\n",
    "# Input data files are available in the read-only \"../input/\" directory\n",
    "# For example, running this (by clicking run or pressing Shift+Enter) will list all files under the input directory\n",
    "\n",
    "import os\n",
    "for dirname, _, filenames in os.walk('/kaggle/input'):\n",
    "    for filename in filenames:\n",
    "        print(os.path.join(dirname, filename))\n",
    "\n",
    "# You can write up to 20GB to the current directory (/kaggle/working/) that gets preserved as output when you create a version using \"Save & Run All\" \n",
    "# You can also write temporary files to /kaggle/temp/, but they won't be saved outside of the current session"
   ]
  },
  {
   "cell_type": "code",
   "execution_count": 2,
   "id": "def3fd9c",
   "metadata": {
    "execution": {
     "iopub.execute_input": "2024-03-16T05:42:51.124855Z",
     "iopub.status.busy": "2024-03-16T05:42:51.123459Z",
     "iopub.status.idle": "2024-03-16T05:42:51.405459Z",
     "shell.execute_reply": "2024-03-16T05:42:51.403823Z"
    },
    "papermill": {
     "duration": 0.29501,
     "end_time": "2024-03-16T05:42:51.408784",
     "exception": false,
     "start_time": "2024-03-16T05:42:51.113774",
     "status": "completed"
    },
    "tags": []
   },
   "outputs": [],
   "source": [
    "# Load csv\n",
    "df = pd.read_csv('/kaggle/input/cac40-stocks-dataset/preprocessed_CAC40.csv', parse_dates=['Date'])"
   ]
  },
  {
   "cell_type": "code",
   "execution_count": 3,
   "id": "541696a1",
   "metadata": {
    "execution": {
     "iopub.execute_input": "2024-03-16T05:42:51.427520Z",
     "iopub.status.busy": "2024-03-16T05:42:51.427104Z",
     "iopub.status.idle": "2024-03-16T05:42:51.458141Z",
     "shell.execute_reply": "2024-03-16T05:42:51.456547Z"
    },
    "papermill": {
     "duration": 0.043919,
     "end_time": "2024-03-16T05:42:51.461048",
     "exception": false,
     "start_time": "2024-03-16T05:42:51.417129",
     "status": "completed"
    },
    "tags": []
   },
   "outputs": [
    {
     "data": {
      "text/html": [
       "<div>\n",
       "<style scoped>\n",
       "    .dataframe tbody tr th:only-of-type {\n",
       "        vertical-align: middle;\n",
       "    }\n",
       "\n",
       "    .dataframe tbody tr th {\n",
       "        vertical-align: top;\n",
       "    }\n",
       "\n",
       "    .dataframe thead th {\n",
       "        text-align: right;\n",
       "    }\n",
       "</style>\n",
       "<table border=\"1\" class=\"dataframe\">\n",
       "  <thead>\n",
       "    <tr style=\"text-align: right;\">\n",
       "      <th></th>\n",
       "      <th>Unnamed: 0</th>\n",
       "      <th>Name</th>\n",
       "      <th>Date</th>\n",
       "      <th>Open</th>\n",
       "      <th>Closing_Price</th>\n",
       "      <th>Daily_High</th>\n",
       "      <th>Daily_Low</th>\n",
       "      <th>Volume</th>\n",
       "    </tr>\n",
       "  </thead>\n",
       "  <tbody>\n",
       "    <tr>\n",
       "      <th>0</th>\n",
       "      <td>0</td>\n",
       "      <td>Accor</td>\n",
       "      <td>2020-04-03</td>\n",
       "      <td>22.99</td>\n",
       "      <td>23.40</td>\n",
       "      <td>23.40</td>\n",
       "      <td>22.99</td>\n",
       "      <td>67</td>\n",
       "    </tr>\n",
       "    <tr>\n",
       "      <th>1</th>\n",
       "      <td>1</td>\n",
       "      <td>Accor</td>\n",
       "      <td>2020-04-02</td>\n",
       "      <td>23.91</td>\n",
       "      <td>22.99</td>\n",
       "      <td>23.91</td>\n",
       "      <td>22.99</td>\n",
       "      <td>250</td>\n",
       "    </tr>\n",
       "    <tr>\n",
       "      <th>2</th>\n",
       "      <td>2</td>\n",
       "      <td>Accor</td>\n",
       "      <td>2020-04-01</td>\n",
       "      <td>24.10</td>\n",
       "      <td>23.83</td>\n",
       "      <td>24.10</td>\n",
       "      <td>23.83</td>\n",
       "      <td>37</td>\n",
       "    </tr>\n",
       "    <tr>\n",
       "      <th>3</th>\n",
       "      <td>3</td>\n",
       "      <td>Accor</td>\n",
       "      <td>2020-03-31</td>\n",
       "      <td>25.04</td>\n",
       "      <td>25.00</td>\n",
       "      <td>25.24</td>\n",
       "      <td>24.99</td>\n",
       "      <td>336</td>\n",
       "    </tr>\n",
       "    <tr>\n",
       "      <th>4</th>\n",
       "      <td>4</td>\n",
       "      <td>Accor</td>\n",
       "      <td>2020-03-30</td>\n",
       "      <td>26.50</td>\n",
       "      <td>25.02</td>\n",
       "      <td>26.50</td>\n",
       "      <td>24.99</td>\n",
       "      <td>415</td>\n",
       "    </tr>\n",
       "  </tbody>\n",
       "</table>\n",
       "</div>"
      ],
      "text/plain": [
       "   Unnamed: 0   Name       Date   Open  Closing_Price  Daily_High  Daily_Low  \\\n",
       "0           0  Accor 2020-04-03  22.99          23.40       23.40      22.99   \n",
       "1           1  Accor 2020-04-02  23.91          22.99       23.91      22.99   \n",
       "2           2  Accor 2020-04-01  24.10          23.83       24.10      23.83   \n",
       "3           3  Accor 2020-03-31  25.04          25.00       25.24      24.99   \n",
       "4           4  Accor 2020-03-30  26.50          25.02       26.50      24.99   \n",
       "\n",
       "  Volume  \n",
       "0     67  \n",
       "1    250  \n",
       "2     37  \n",
       "3    336  \n",
       "4    415  "
      ]
     },
     "execution_count": 3,
     "metadata": {},
     "output_type": "execute_result"
    }
   ],
   "source": [
    "df.head()"
   ]
  },
  {
   "cell_type": "code",
   "execution_count": 4,
   "id": "fd13883a",
   "metadata": {
    "execution": {
     "iopub.execute_input": "2024-03-16T05:42:51.480200Z",
     "iopub.status.busy": "2024-03-16T05:42:51.479670Z",
     "iopub.status.idle": "2024-03-16T05:42:51.507696Z",
     "shell.execute_reply": "2024-03-16T05:42:51.506736Z"
    },
    "papermill": {
     "duration": 0.040793,
     "end_time": "2024-03-16T05:42:51.510366",
     "exception": false,
     "start_time": "2024-03-16T05:42:51.469573",
     "status": "completed"
    },
    "tags": []
   },
   "outputs": [
    {
     "data": {
      "text/html": [
       "<div>\n",
       "<style scoped>\n",
       "    .dataframe tbody tr th:only-of-type {\n",
       "        vertical-align: middle;\n",
       "    }\n",
       "\n",
       "    .dataframe tbody tr th {\n",
       "        vertical-align: top;\n",
       "    }\n",
       "\n",
       "    .dataframe thead th {\n",
       "        text-align: right;\n",
       "    }\n",
       "</style>\n",
       "<table border=\"1\" class=\"dataframe\">\n",
       "  <thead>\n",
       "    <tr style=\"text-align: right;\">\n",
       "      <th></th>\n",
       "      <th>Date</th>\n",
       "      <th>Open</th>\n",
       "      <th>Closing_Price</th>\n",
       "      <th>Daily_High</th>\n",
       "      <th>Daily_Low</th>\n",
       "      <th>Volume</th>\n",
       "    </tr>\n",
       "  </thead>\n",
       "  <tbody>\n",
       "    <tr>\n",
       "      <th>0</th>\n",
       "      <td>2020-04-03</td>\n",
       "      <td>22.99</td>\n",
       "      <td>23.40</td>\n",
       "      <td>23.40</td>\n",
       "      <td>22.99</td>\n",
       "      <td>67</td>\n",
       "    </tr>\n",
       "    <tr>\n",
       "      <th>1</th>\n",
       "      <td>2020-04-02</td>\n",
       "      <td>23.91</td>\n",
       "      <td>22.99</td>\n",
       "      <td>23.91</td>\n",
       "      <td>22.99</td>\n",
       "      <td>250</td>\n",
       "    </tr>\n",
       "    <tr>\n",
       "      <th>2</th>\n",
       "      <td>2020-04-01</td>\n",
       "      <td>24.10</td>\n",
       "      <td>23.83</td>\n",
       "      <td>24.10</td>\n",
       "      <td>23.83</td>\n",
       "      <td>37</td>\n",
       "    </tr>\n",
       "    <tr>\n",
       "      <th>3</th>\n",
       "      <td>2020-03-31</td>\n",
       "      <td>25.04</td>\n",
       "      <td>25.00</td>\n",
       "      <td>25.24</td>\n",
       "      <td>24.99</td>\n",
       "      <td>336</td>\n",
       "    </tr>\n",
       "    <tr>\n",
       "      <th>4</th>\n",
       "      <td>2020-03-30</td>\n",
       "      <td>26.50</td>\n",
       "      <td>25.02</td>\n",
       "      <td>26.50</td>\n",
       "      <td>24.99</td>\n",
       "      <td>415</td>\n",
       "    </tr>\n",
       "  </tbody>\n",
       "</table>\n",
       "</div>"
      ],
      "text/plain": [
       "        Date   Open  Closing_Price  Daily_High  Daily_Low Volume\n",
       "0 2020-04-03  22.99          23.40       23.40      22.99     67\n",
       "1 2020-04-02  23.91          22.99       23.91      22.99    250\n",
       "2 2020-04-01  24.10          23.83       24.10      23.83     37\n",
       "3 2020-03-31  25.04          25.00       25.24      24.99    336\n",
       "4 2020-03-30  26.50          25.02       26.50      24.99    415"
      ]
     },
     "execution_count": 4,
     "metadata": {},
     "output_type": "execute_result"
    }
   ],
   "source": [
    "# Drop unnecessary columns\n",
    "df1 = df.drop(['Unnamed: 0', 'Name'], axis=1)\n",
    "df1.head()"
   ]
  },
  {
   "cell_type": "code",
   "execution_count": 5,
   "id": "672ce7c0",
   "metadata": {
    "execution": {
     "iopub.execute_input": "2024-03-16T05:42:51.530297Z",
     "iopub.status.busy": "2024-03-16T05:42:51.529796Z",
     "iopub.status.idle": "2024-03-16T05:42:51.553367Z",
     "shell.execute_reply": "2024-03-16T05:42:51.551717Z"
    },
    "papermill": {
     "duration": 0.037377,
     "end_time": "2024-03-16T05:42:51.556538",
     "exception": false,
     "start_time": "2024-03-16T05:42:51.519161",
     "status": "completed"
    },
    "tags": []
   },
   "outputs": [],
   "source": [
    "# Convert date to datetime\n",
    "df1['Date'] = pd.to_datetime(df1['Date'])"
   ]
  },
  {
   "cell_type": "code",
   "execution_count": 6,
   "id": "056740f5",
   "metadata": {
    "execution": {
     "iopub.execute_input": "2024-03-16T05:42:51.577009Z",
     "iopub.status.busy": "2024-03-16T05:42:51.575730Z",
     "iopub.status.idle": "2024-03-16T05:42:51.586858Z",
     "shell.execute_reply": "2024-03-16T05:42:51.585555Z"
    },
    "papermill": {
     "duration": 0.024317,
     "end_time": "2024-03-16T05:42:51.589734",
     "exception": false,
     "start_time": "2024-03-16T05:42:51.565417",
     "status": "completed"
    },
    "tags": []
   },
   "outputs": [],
   "source": [
    "# Set date as index\n",
    "df1 = df1.set_index('Date')"
   ]
  },
  {
   "cell_type": "code",
   "execution_count": 7,
   "id": "402c27be",
   "metadata": {
    "execution": {
     "iopub.execute_input": "2024-03-16T05:42:51.610420Z",
     "iopub.status.busy": "2024-03-16T05:42:51.608962Z",
     "iopub.status.idle": "2024-03-16T05:42:51.632366Z",
     "shell.execute_reply": "2024-03-16T05:42:51.631047Z"
    },
    "papermill": {
     "duration": 0.036841,
     "end_time": "2024-03-16T05:42:51.635565",
     "exception": false,
     "start_time": "2024-03-16T05:42:51.598724",
     "status": "completed"
    },
    "tags": []
   },
   "outputs": [
    {
     "data": {
      "text/plain": [
       "Open               230\n",
       "Closing_Price        2\n",
       "Daily_High         204\n",
       "Daily_Low          204\n",
       "Volume           20453\n",
       "dtype: int64"
      ]
     },
     "execution_count": 7,
     "metadata": {},
     "output_type": "execute_result"
    }
   ],
   "source": [
    "df1.isna().sum()"
   ]
  },
  {
   "cell_type": "code",
   "execution_count": 8,
   "id": "b0670bb3",
   "metadata": {
    "execution": {
     "iopub.execute_input": "2024-03-16T05:42:51.656805Z",
     "iopub.status.busy": "2024-03-16T05:42:51.656332Z",
     "iopub.status.idle": "2024-03-16T05:42:53.785564Z",
     "shell.execute_reply": "2024-03-16T05:42:53.784431Z"
    },
    "papermill": {
     "duration": 2.144092,
     "end_time": "2024-03-16T05:42:53.788568",
     "exception": false,
     "start_time": "2024-03-16T05:42:51.644476",
     "status": "completed"
    },
    "tags": []
   },
   "outputs": [],
   "source": [
    "from sklearn.impute import SimpleImputer\n",
    "\n",
    "# Impute missing values with mean\n",
    "imputer = SimpleImputer(strategy='mean')\n",
    "df1[['Open', 'Closing_Price', 'Daily_High', 'Daily_Low']] = imputer.fit_transform(df1[['Open', 'Closing_Price', 'Daily_High', 'Daily_Low']])"
   ]
  },
  {
   "cell_type": "code",
   "execution_count": 9,
   "id": "e996e8e5",
   "metadata": {
    "execution": {
     "iopub.execute_input": "2024-03-16T05:42:53.810217Z",
     "iopub.status.busy": "2024-03-16T05:42:53.809441Z",
     "iopub.status.idle": "2024-03-16T05:42:53.882688Z",
     "shell.execute_reply": "2024-03-16T05:42:53.881567Z"
    },
    "papermill": {
     "duration": 0.087707,
     "end_time": "2024-03-16T05:42:53.885767",
     "exception": false,
     "start_time": "2024-03-16T05:42:53.798060",
     "status": "completed"
    },
    "tags": []
   },
   "outputs": [],
   "source": [
    "import numpy as np\n",
    "\n",
    "df1['Volume'] = df1['Volume'].apply(lambda x: np.nan if not isinstance(x, (int, float)) else x)"
   ]
  },
  {
   "cell_type": "code",
   "execution_count": 10,
   "id": "fa8f0b12",
   "metadata": {
    "execution": {
     "iopub.execute_input": "2024-03-16T05:42:53.906433Z",
     "iopub.status.busy": "2024-03-16T05:42:53.905422Z",
     "iopub.status.idle": "2024-03-16T05:42:53.917528Z",
     "shell.execute_reply": "2024-03-16T05:42:53.915306Z"
    },
    "papermill": {
     "duration": 0.026056,
     "end_time": "2024-03-16T05:42:53.920854",
     "exception": false,
     "start_time": "2024-03-16T05:42:53.894798",
     "status": "completed"
    },
    "tags": []
   },
   "outputs": [],
   "source": [
    "imputer = SimpleImputer(strategy='most_frequent')\n",
    "df1['Volume'] = imputer.fit_transform(df1['Volume'].values.reshape(-1, 1))"
   ]
  },
  {
   "cell_type": "code",
   "execution_count": 11,
   "id": "cb1b3e90",
   "metadata": {
    "execution": {
     "iopub.execute_input": "2024-03-16T05:42:53.942798Z",
     "iopub.status.busy": "2024-03-16T05:42:53.942338Z",
     "iopub.status.idle": "2024-03-16T05:42:53.951606Z",
     "shell.execute_reply": "2024-03-16T05:42:53.950577Z"
    },
    "papermill": {
     "duration": 0.023356,
     "end_time": "2024-03-16T05:42:53.954366",
     "exception": false,
     "start_time": "2024-03-16T05:42:53.931010",
     "status": "completed"
    },
    "tags": []
   },
   "outputs": [],
   "source": [
    "from sklearn.preprocessing import MinMaxScaler\n",
    "# Scale data\n",
    "scaler = MinMaxScaler()\n",
    "df1['Closing_Price'] = scaler.fit_transform(df1['Closing_Price'].values.reshape(-1, 1))"
   ]
  },
  {
   "cell_type": "code",
   "execution_count": 12,
   "id": "80c9aaef",
   "metadata": {
    "execution": {
     "iopub.execute_input": "2024-03-16T05:42:53.980956Z",
     "iopub.status.busy": "2024-03-16T05:42:53.979780Z",
     "iopub.status.idle": "2024-03-16T05:42:53.987290Z",
     "shell.execute_reply": "2024-03-16T05:42:53.985710Z"
    },
    "papermill": {
     "duration": 0.025442,
     "end_time": "2024-03-16T05:42:53.990782",
     "exception": false,
     "start_time": "2024-03-16T05:42:53.965340",
     "status": "completed"
    },
    "tags": []
   },
   "outputs": [],
   "source": [
    "# Create features and labels\n",
    "X = []\n",
    "y = []\n",
    "window_size = 30  # Lookback window size"
   ]
  },
  {
   "cell_type": "code",
   "execution_count": 13,
   "id": "4411d708",
   "metadata": {
    "execution": {
     "iopub.execute_input": "2024-03-16T05:42:54.016151Z",
     "iopub.status.busy": "2024-03-16T05:42:54.015664Z",
     "iopub.status.idle": "2024-03-16T05:42:55.822868Z",
     "shell.execute_reply": "2024-03-16T05:42:55.821689Z"
    },
    "papermill": {
     "duration": 1.821233,
     "end_time": "2024-03-16T05:42:55.825748",
     "exception": false,
     "start_time": "2024-03-16T05:42:54.004515",
     "status": "completed"
    },
    "tags": []
   },
   "outputs": [],
   "source": [
    "for i in range(window_size, len(df1) - 3):\n",
    "    X.append(df1['Closing_Price'].values[i - window_size:i])\n",
    "    y.append(df1['Closing_Price'].values[i:i + 3])"
   ]
  },
  {
   "cell_type": "code",
   "execution_count": 14,
   "id": "03908b64",
   "metadata": {
    "execution": {
     "iopub.execute_input": "2024-03-16T05:42:55.846698Z",
     "iopub.status.busy": "2024-03-16T05:42:55.845979Z",
     "iopub.status.idle": "2024-03-16T05:42:56.009565Z",
     "shell.execute_reply": "2024-03-16T05:42:56.008514Z"
    },
    "papermill": {
     "duration": 0.177893,
     "end_time": "2024-03-16T05:42:56.012451",
     "exception": false,
     "start_time": "2024-03-16T05:42:55.834558",
     "status": "completed"
    },
    "tags": []
   },
   "outputs": [],
   "source": [
    "import numpy as np\n",
    "X = np.array(X)\n",
    "y = np.array(y)"
   ]
  },
  {
   "cell_type": "code",
   "execution_count": 15,
   "id": "4b0f0275",
   "metadata": {
    "execution": {
     "iopub.execute_input": "2024-03-16T05:42:56.033448Z",
     "iopub.status.busy": "2024-03-16T05:42:56.032910Z",
     "iopub.status.idle": "2024-03-16T05:42:56.039341Z",
     "shell.execute_reply": "2024-03-16T05:42:56.037814Z"
    },
    "papermill": {
     "duration": 0.020357,
     "end_time": "2024-03-16T05:42:56.042183",
     "exception": false,
     "start_time": "2024-03-16T05:42:56.021826",
     "status": "completed"
    },
    "tags": []
   },
   "outputs": [],
   "source": [
    "# Split data into train and test sets\n",
    "split = int(0.8 * len(X))\n",
    "X_train, X_test = X[:split], X[split:]\n",
    "y_train, y_test = y[:split], y[split:]"
   ]
  },
  {
   "cell_type": "code",
   "execution_count": 16,
   "id": "73b65e59",
   "metadata": {
    "execution": {
     "iopub.execute_input": "2024-03-16T05:42:56.063867Z",
     "iopub.status.busy": "2024-03-16T05:42:56.063410Z",
     "iopub.status.idle": "2024-03-16T05:42:56.070079Z",
     "shell.execute_reply": "2024-03-16T05:42:56.068531Z"
    },
    "papermill": {
     "duration": 0.021905,
     "end_time": "2024-03-16T05:42:56.073045",
     "exception": false,
     "start_time": "2024-03-16T05:42:56.051140",
     "status": "completed"
    },
    "tags": []
   },
   "outputs": [],
   "source": [
    "# Reshape data for LSTM\n",
    "X_train = np.reshape(X_train, (X_train.shape[0], X_train.shape[1], 1))\n",
    "X_test = np.reshape(X_test, (X_test.shape[0], X_test.shape[1], 1))"
   ]
  },
  {
   "cell_type": "code",
   "execution_count": 17,
   "id": "46cf5c0d",
   "metadata": {
    "execution": {
     "iopub.execute_input": "2024-03-16T05:42:56.094182Z",
     "iopub.status.busy": "2024-03-16T05:42:56.093657Z",
     "iopub.status.idle": "2024-03-16T07:23:29.444505Z",
     "shell.execute_reply": "2024-03-16T07:23:29.442821Z"
    },
    "papermill": {
     "duration": 6033.36419,
     "end_time": "2024-03-16T07:23:29.447310",
     "exception": false,
     "start_time": "2024-03-16T05:42:56.083120",
     "status": "completed"
    },
    "tags": []
   },
   "outputs": [
    {
     "name": "stderr",
     "output_type": "stream",
     "text": [
      "2024-03-16 05:42:58.721606: E external/local_xla/xla/stream_executor/cuda/cuda_dnn.cc:9261] Unable to register cuDNN factory: Attempting to register factory for plugin cuDNN when one has already been registered\n",
      "2024-03-16 05:42:58.721781: E external/local_xla/xla/stream_executor/cuda/cuda_fft.cc:607] Unable to register cuFFT factory: Attempting to register factory for plugin cuFFT when one has already been registered\n",
      "2024-03-16 05:42:58.902895: E external/local_xla/xla/stream_executor/cuda/cuda_blas.cc:1515] Unable to register cuBLAS factory: Attempting to register factory for plugin cuBLAS when one has already been registered\n",
      "/opt/conda/lib/python3.10/site-packages/keras/src/layers/rnn/rnn.py:205: UserWarning: Do not pass an `input_shape`/`input_dim` argument to a layer. When using Sequential models, prefer using an `Input(shape)` object as the first layer in the model instead.\n",
      "  super().__init__(**kwargs)\n"
     ]
    },
    {
     "name": "stdout",
     "output_type": "stream",
     "text": [
      "Epoch 1/100\n",
      "\u001b[1m2441/2441\u001b[0m \u001b[32m━━━━━━━━━━━━━━━━━━━━\u001b[0m\u001b[37m\u001b[0m \u001b[1m44s\u001b[0m 17ms/step - loss: 7.6860e-04 - val_loss: 3.3574e-05\n",
      "Epoch 2/100\n",
      "\u001b[1m2441/2441\u001b[0m \u001b[32m━━━━━━━━━━━━━━━━━━━━\u001b[0m\u001b[37m\u001b[0m \u001b[1m81s\u001b[0m 17ms/step - loss: 5.9475e-05 - val_loss: 1.2848e-05\n",
      "Epoch 3/100\n",
      "\u001b[1m2441/2441\u001b[0m \u001b[32m━━━━━━━━━━━━━━━━━━━━\u001b[0m\u001b[37m\u001b[0m \u001b[1m42s\u001b[0m 17ms/step - loss: 5.4222e-05 - val_loss: 1.3299e-05\n",
      "Epoch 4/100\n",
      "\u001b[1m2441/2441\u001b[0m \u001b[32m━━━━━━━━━━━━━━━━━━━━\u001b[0m\u001b[37m\u001b[0m \u001b[1m42s\u001b[0m 17ms/step - loss: 6.5810e-05 - val_loss: 1.0810e-05\n",
      "Epoch 5/100\n",
      "\u001b[1m2441/2441\u001b[0m \u001b[32m━━━━━━━━━━━━━━━━━━━━\u001b[0m\u001b[37m\u001b[0m \u001b[1m81s\u001b[0m 17ms/step - loss: 2.9672e-05 - val_loss: 1.0076e-05\n",
      "Epoch 6/100\n",
      "\u001b[1m2441/2441\u001b[0m \u001b[32m━━━━━━━━━━━━━━━━━━━━\u001b[0m\u001b[37m\u001b[0m \u001b[1m82s\u001b[0m 17ms/step - loss: 3.9719e-05 - val_loss: 1.0425e-05\n",
      "Epoch 7/100\n",
      "\u001b[1m2441/2441\u001b[0m \u001b[32m━━━━━━━━━━━━━━━━━━━━\u001b[0m\u001b[37m\u001b[0m \u001b[1m41s\u001b[0m 17ms/step - loss: 5.5047e-05 - val_loss: 1.8595e-05\n",
      "Epoch 8/100\n",
      "\u001b[1m2441/2441\u001b[0m \u001b[32m━━━━━━━━━━━━━━━━━━━━\u001b[0m\u001b[37m\u001b[0m \u001b[1m41s\u001b[0m 17ms/step - loss: 5.2539e-05 - val_loss: 1.2976e-05\n",
      "Epoch 9/100\n",
      "\u001b[1m2441/2441\u001b[0m \u001b[32m━━━━━━━━━━━━━━━━━━━━\u001b[0m\u001b[37m\u001b[0m \u001b[1m82s\u001b[0m 17ms/step - loss: 3.8914e-05 - val_loss: 1.2017e-05\n",
      "Epoch 10/100\n",
      "\u001b[1m2441/2441\u001b[0m \u001b[32m━━━━━━━━━━━━━━━━━━━━\u001b[0m\u001b[37m\u001b[0m \u001b[1m41s\u001b[0m 17ms/step - loss: 3.0713e-05 - val_loss: 1.9084e-05\n",
      "Epoch 11/100\n",
      "\u001b[1m2441/2441\u001b[0m \u001b[32m━━━━━━━━━━━━━━━━━━━━\u001b[0m\u001b[37m\u001b[0m \u001b[1m42s\u001b[0m 17ms/step - loss: 3.4225e-05 - val_loss: 1.0420e-05\n",
      "Epoch 12/100\n",
      "\u001b[1m2441/2441\u001b[0m \u001b[32m━━━━━━━━━━━━━━━━━━━━\u001b[0m\u001b[37m\u001b[0m \u001b[1m83s\u001b[0m 17ms/step - loss: 3.5755e-05 - val_loss: 1.0302e-05\n",
      "Epoch 13/100\n",
      "\u001b[1m2441/2441\u001b[0m \u001b[32m━━━━━━━━━━━━━━━━━━━━\u001b[0m\u001b[37m\u001b[0m \u001b[1m82s\u001b[0m 17ms/step - loss: 6.8266e-05 - val_loss: 1.0130e-05\n",
      "Epoch 14/100\n",
      "\u001b[1m2441/2441\u001b[0m \u001b[32m━━━━━━━━━━━━━━━━━━━━\u001b[0m\u001b[37m\u001b[0m \u001b[1m81s\u001b[0m 17ms/step - loss: 3.9478e-05 - val_loss: 1.2077e-05\n",
      "Epoch 15/100\n",
      "\u001b[1m2441/2441\u001b[0m \u001b[32m━━━━━━━━━━━━━━━━━━━━\u001b[0m\u001b[37m\u001b[0m \u001b[1m41s\u001b[0m 17ms/step - loss: 4.8579e-05 - val_loss: 2.6454e-05\n",
      "Epoch 16/100\n",
      "\u001b[1m2441/2441\u001b[0m \u001b[32m━━━━━━━━━━━━━━━━━━━━\u001b[0m\u001b[37m\u001b[0m \u001b[1m43s\u001b[0m 17ms/step - loss: 2.9930e-05 - val_loss: 1.7798e-05\n",
      "Epoch 17/100\n",
      "\u001b[1m2441/2441\u001b[0m \u001b[32m━━━━━━━━━━━━━━━━━━━━\u001b[0m\u001b[37m\u001b[0m \u001b[1m82s\u001b[0m 17ms/step - loss: 6.3445e-05 - val_loss: 1.1490e-05\n",
      "Epoch 18/100\n",
      "\u001b[1m2441/2441\u001b[0m \u001b[32m━━━━━━━━━━━━━━━━━━━━\u001b[0m\u001b[37m\u001b[0m \u001b[1m81s\u001b[0m 17ms/step - loss: 5.7474e-05 - val_loss: 9.9212e-06\n",
      "Epoch 19/100\n",
      "\u001b[1m2441/2441\u001b[0m \u001b[32m━━━━━━━━━━━━━━━━━━━━\u001b[0m\u001b[37m\u001b[0m \u001b[1m41s\u001b[0m 17ms/step - loss: 6.8254e-05 - val_loss: 1.0564e-05\n",
      "Epoch 20/100\n",
      "\u001b[1m2441/2441\u001b[0m \u001b[32m━━━━━━━━━━━━━━━━━━━━\u001b[0m\u001b[37m\u001b[0m \u001b[1m41s\u001b[0m 17ms/step - loss: 4.3681e-05 - val_loss: 1.1369e-05\n",
      "Epoch 21/100\n",
      "\u001b[1m2441/2441\u001b[0m \u001b[32m━━━━━━━━━━━━━━━━━━━━\u001b[0m\u001b[37m\u001b[0m \u001b[1m41s\u001b[0m 16ms/step - loss: 3.9686e-05 - val_loss: 1.0079e-05\n",
      "Epoch 22/100\n",
      "\u001b[1m2441/2441\u001b[0m \u001b[32m━━━━━━━━━━━━━━━━━━━━\u001b[0m\u001b[37m\u001b[0m \u001b[1m41s\u001b[0m 17ms/step - loss: 4.4394e-05 - val_loss: 1.2494e-05\n",
      "Epoch 23/100\n",
      "\u001b[1m2441/2441\u001b[0m \u001b[32m━━━━━━━━━━━━━━━━━━━━\u001b[0m\u001b[37m\u001b[0m \u001b[1m42s\u001b[0m 17ms/step - loss: 3.8569e-05 - val_loss: 1.0444e-05\n",
      "Epoch 24/100\n",
      "\u001b[1m2441/2441\u001b[0m \u001b[32m━━━━━━━━━━━━━━━━━━━━\u001b[0m\u001b[37m\u001b[0m \u001b[1m81s\u001b[0m 17ms/step - loss: 7.0758e-05 - val_loss: 1.0415e-05\n",
      "Epoch 25/100\n",
      "\u001b[1m2441/2441\u001b[0m \u001b[32m━━━━━━━━━━━━━━━━━━━━\u001b[0m\u001b[37m\u001b[0m \u001b[1m41s\u001b[0m 17ms/step - loss: 4.7637e-05 - val_loss: 1.0631e-05\n",
      "Epoch 26/100\n",
      "\u001b[1m2441/2441\u001b[0m \u001b[32m━━━━━━━━━━━━━━━━━━━━\u001b[0m\u001b[37m\u001b[0m \u001b[1m83s\u001b[0m 17ms/step - loss: 3.9197e-05 - val_loss: 1.0232e-05\n",
      "Epoch 27/100\n",
      "\u001b[1m2441/2441\u001b[0m \u001b[32m━━━━━━━━━━━━━━━━━━━━\u001b[0m\u001b[37m\u001b[0m \u001b[1m82s\u001b[0m 17ms/step - loss: 3.4877e-05 - val_loss: 9.6630e-06\n",
      "Epoch 28/100\n",
      "\u001b[1m2441/2441\u001b[0m \u001b[32m━━━━━━━━━━━━━━━━━━━━\u001b[0m\u001b[37m\u001b[0m \u001b[1m43s\u001b[0m 17ms/step - loss: 3.9825e-05 - val_loss: 1.0260e-05\n",
      "Epoch 29/100\n",
      "\u001b[1m2441/2441\u001b[0m \u001b[32m━━━━━━━━━━━━━━━━━━━━\u001b[0m\u001b[37m\u001b[0m \u001b[1m42s\u001b[0m 17ms/step - loss: 2.7980e-05 - val_loss: 9.6422e-06\n",
      "Epoch 30/100\n",
      "\u001b[1m2441/2441\u001b[0m \u001b[32m━━━━━━━━━━━━━━━━━━━━\u001b[0m\u001b[37m\u001b[0m \u001b[1m82s\u001b[0m 17ms/step - loss: 5.0090e-05 - val_loss: 9.7798e-06\n",
      "Epoch 31/100\n",
      "\u001b[1m2441/2441\u001b[0m \u001b[32m━━━━━━━━━━━━━━━━━━━━\u001b[0m\u001b[37m\u001b[0m \u001b[1m41s\u001b[0m 17ms/step - loss: 3.7484e-05 - val_loss: 1.0929e-05\n",
      "Epoch 32/100\n",
      "\u001b[1m2441/2441\u001b[0m \u001b[32m━━━━━━━━━━━━━━━━━━━━\u001b[0m\u001b[37m\u001b[0m \u001b[1m42s\u001b[0m 17ms/step - loss: 4.0040e-05 - val_loss: 1.1373e-05\n",
      "Epoch 33/100\n",
      "\u001b[1m2441/2441\u001b[0m \u001b[32m━━━━━━━━━━━━━━━━━━━━\u001b[0m\u001b[37m\u001b[0m \u001b[1m81s\u001b[0m 17ms/step - loss: 4.1381e-05 - val_loss: 9.7524e-06\n",
      "Epoch 34/100\n",
      "\u001b[1m2441/2441\u001b[0m \u001b[32m━━━━━━━━━━━━━━━━━━━━\u001b[0m\u001b[37m\u001b[0m \u001b[1m82s\u001b[0m 17ms/step - loss: 4.1947e-05 - val_loss: 1.8469e-05\n",
      "Epoch 35/100\n",
      "\u001b[1m2441/2441\u001b[0m \u001b[32m━━━━━━━━━━━━━━━━━━━━\u001b[0m\u001b[37m\u001b[0m \u001b[1m82s\u001b[0m 17ms/step - loss: 4.5622e-05 - val_loss: 9.8449e-06\n",
      "Epoch 36/100\n",
      "\u001b[1m2441/2441\u001b[0m \u001b[32m━━━━━━━━━━━━━━━━━━━━\u001b[0m\u001b[37m\u001b[0m \u001b[1m42s\u001b[0m 17ms/step - loss: 4.9459e-05 - val_loss: 1.0366e-05\n",
      "Epoch 37/100\n",
      "\u001b[1m2441/2441\u001b[0m \u001b[32m━━━━━━━━━━━━━━━━━━━━\u001b[0m\u001b[37m\u001b[0m \u001b[1m81s\u001b[0m 17ms/step - loss: 3.4521e-05 - val_loss: 1.0332e-05\n",
      "Epoch 38/100\n",
      "\u001b[1m2441/2441\u001b[0m \u001b[32m━━━━━━━━━━━━━━━━━━━━\u001b[0m\u001b[37m\u001b[0m \u001b[1m81s\u001b[0m 17ms/step - loss: 6.2328e-05 - val_loss: 9.7337e-06\n",
      "Epoch 39/100\n",
      "\u001b[1m2441/2441\u001b[0m \u001b[32m━━━━━━━━━━━━━━━━━━━━\u001b[0m\u001b[37m\u001b[0m \u001b[1m41s\u001b[0m 17ms/step - loss: 6.1216e-05 - val_loss: 9.8124e-06\n",
      "Epoch 40/100\n",
      "\u001b[1m2441/2441\u001b[0m \u001b[32m━━━━━━━━━━━━━━━━━━━━\u001b[0m\u001b[37m\u001b[0m \u001b[1m41s\u001b[0m 17ms/step - loss: 3.2980e-05 - val_loss: 9.9559e-06\n",
      "Epoch 41/100\n",
      "\u001b[1m2441/2441\u001b[0m \u001b[32m━━━━━━━━━━━━━━━━━━━━\u001b[0m\u001b[37m\u001b[0m \u001b[1m42s\u001b[0m 17ms/step - loss: 2.7719e-05 - val_loss: 9.6933e-06\n",
      "Epoch 42/100\n",
      "\u001b[1m2441/2441\u001b[0m \u001b[32m━━━━━━━━━━━━━━━━━━━━\u001b[0m\u001b[37m\u001b[0m \u001b[1m81s\u001b[0m 17ms/step - loss: 3.4953e-05 - val_loss: 9.7075e-06\n",
      "Epoch 43/100\n",
      "\u001b[1m2441/2441\u001b[0m \u001b[32m━━━━━━━━━━━━━━━━━━━━\u001b[0m\u001b[37m\u001b[0m \u001b[1m83s\u001b[0m 17ms/step - loss: 3.0350e-05 - val_loss: 9.7958e-06\n",
      "Epoch 44/100\n",
      "\u001b[1m2441/2441\u001b[0m \u001b[32m━━━━━━━━━━━━━━━━━━━━\u001b[0m\u001b[37m\u001b[0m \u001b[1m42s\u001b[0m 17ms/step - loss: 2.7434e-05 - val_loss: 9.9349e-06\n",
      "Epoch 45/100\n",
      "\u001b[1m2441/2441\u001b[0m \u001b[32m━━━━━━━━━━━━━━━━━━━━\u001b[0m\u001b[37m\u001b[0m \u001b[1m83s\u001b[0m 18ms/step - loss: 5.7227e-05 - val_loss: 1.0422e-05\n",
      "Epoch 46/100\n",
      "\u001b[1m2441/2441\u001b[0m \u001b[32m━━━━━━━━━━━━━━━━━━━━\u001b[0m\u001b[37m\u001b[0m \u001b[1m82s\u001b[0m 17ms/step - loss: 3.6328e-05 - val_loss: 1.0152e-05\n",
      "Epoch 47/100\n",
      "\u001b[1m2441/2441\u001b[0m \u001b[32m━━━━━━━━━━━━━━━━━━━━\u001b[0m\u001b[37m\u001b[0m \u001b[1m81s\u001b[0m 17ms/step - loss: 4.3408e-05 - val_loss: 1.0231e-05\n",
      "Epoch 48/100\n",
      "\u001b[1m2441/2441\u001b[0m \u001b[32m━━━━━━━━━━━━━━━━━━━━\u001b[0m\u001b[37m\u001b[0m \u001b[1m82s\u001b[0m 17ms/step - loss: 3.4758e-05 - val_loss: 9.7573e-06\n",
      "Epoch 49/100\n",
      "\u001b[1m2441/2441\u001b[0m \u001b[32m━━━━━━━━━━━━━━━━━━━━\u001b[0m\u001b[37m\u001b[0m \u001b[1m41s\u001b[0m 17ms/step - loss: 5.1437e-05 - val_loss: 9.6517e-06\n",
      "Epoch 50/100\n",
      "\u001b[1m2441/2441\u001b[0m \u001b[32m━━━━━━━━━━━━━━━━━━━━\u001b[0m\u001b[37m\u001b[0m \u001b[1m42s\u001b[0m 17ms/step - loss: 5.7824e-05 - val_loss: 1.1508e-05\n",
      "Epoch 51/100\n",
      "\u001b[1m2441/2441\u001b[0m \u001b[32m━━━━━━━━━━━━━━━━━━━━\u001b[0m\u001b[37m\u001b[0m \u001b[1m82s\u001b[0m 17ms/step - loss: 5.0737e-05 - val_loss: 1.0985e-05\n",
      "Epoch 52/100\n",
      "\u001b[1m2441/2441\u001b[0m \u001b[32m━━━━━━━━━━━━━━━━━━━━\u001b[0m\u001b[37m\u001b[0m \u001b[1m83s\u001b[0m 17ms/step - loss: 3.7778e-05 - val_loss: 9.7149e-06\n",
      "Epoch 53/100\n",
      "\u001b[1m2441/2441\u001b[0m \u001b[32m━━━━━━━━━━━━━━━━━━━━\u001b[0m\u001b[37m\u001b[0m \u001b[1m41s\u001b[0m 17ms/step - loss: 2.8109e-05 - val_loss: 9.7015e-06\n",
      "Epoch 54/100\n",
      "\u001b[1m2441/2441\u001b[0m \u001b[32m━━━━━━━━━━━━━━━━━━━━\u001b[0m\u001b[37m\u001b[0m \u001b[1m42s\u001b[0m 17ms/step - loss: 3.8297e-05 - val_loss: 1.0232e-05\n",
      "Epoch 55/100\n",
      "\u001b[1m2441/2441\u001b[0m \u001b[32m━━━━━━━━━━━━━━━━━━━━\u001b[0m\u001b[37m\u001b[0m \u001b[1m42s\u001b[0m 17ms/step - loss: 2.7994e-05 - val_loss: 9.7071e-06\n",
      "Epoch 56/100\n",
      "\u001b[1m2441/2441\u001b[0m \u001b[32m━━━━━━━━━━━━━━━━━━━━\u001b[0m\u001b[37m\u001b[0m \u001b[1m82s\u001b[0m 17ms/step - loss: 3.2106e-05 - val_loss: 1.0063e-05\n",
      "Epoch 57/100\n",
      "\u001b[1m2441/2441\u001b[0m \u001b[32m━━━━━━━━━━━━━━━━━━━━\u001b[0m\u001b[37m\u001b[0m \u001b[1m42s\u001b[0m 17ms/step - loss: 3.6440e-05 - val_loss: 1.2536e-05\n",
      "Epoch 58/100\n",
      "\u001b[1m2441/2441\u001b[0m \u001b[32m━━━━━━━━━━━━━━━━━━━━\u001b[0m\u001b[37m\u001b[0m \u001b[1m43s\u001b[0m 17ms/step - loss: 3.8451e-05 - val_loss: 1.0089e-05\n",
      "Epoch 59/100\n",
      "\u001b[1m2441/2441\u001b[0m \u001b[32m━━━━━━━━━━━━━━━━━━━━\u001b[0m\u001b[37m\u001b[0m \u001b[1m82s\u001b[0m 17ms/step - loss: 3.8289e-05 - val_loss: 1.0232e-05\n",
      "Epoch 60/100\n",
      "\u001b[1m2441/2441\u001b[0m \u001b[32m━━━━━━━━━━━━━━━━━━━━\u001b[0m\u001b[37m\u001b[0m \u001b[1m42s\u001b[0m 17ms/step - loss: 3.4212e-05 - val_loss: 1.0256e-05\n",
      "Epoch 61/100\n",
      "\u001b[1m2441/2441\u001b[0m \u001b[32m━━━━━━━━━━━━━━━━━━━━\u001b[0m\u001b[37m\u001b[0m \u001b[1m44s\u001b[0m 18ms/step - loss: 4.7068e-05 - val_loss: 9.8722e-06\n",
      "Epoch 62/100\n",
      "\u001b[1m2441/2441\u001b[0m \u001b[32m━━━━━━━━━━━━━━━━━━━━\u001b[0m\u001b[37m\u001b[0m \u001b[1m80s\u001b[0m 17ms/step - loss: 3.6830e-05 - val_loss: 9.9630e-06\n",
      "Epoch 63/100\n",
      "\u001b[1m2441/2441\u001b[0m \u001b[32m━━━━━━━━━━━━━━━━━━━━\u001b[0m\u001b[37m\u001b[0m \u001b[1m82s\u001b[0m 17ms/step - loss: 4.6701e-05 - val_loss: 1.0486e-05\n",
      "Epoch 64/100\n",
      "\u001b[1m2441/2441\u001b[0m \u001b[32m━━━━━━━━━━━━━━━━━━━━\u001b[0m\u001b[37m\u001b[0m \u001b[1m41s\u001b[0m 17ms/step - loss: 4.1405e-05 - val_loss: 1.0848e-05\n",
      "Epoch 65/100\n",
      "\u001b[1m2441/2441\u001b[0m \u001b[32m━━━━━━━━━━━━━━━━━━━━\u001b[0m\u001b[37m\u001b[0m \u001b[1m82s\u001b[0m 17ms/step - loss: 3.3017e-05 - val_loss: 1.0866e-05\n",
      "Epoch 66/100\n",
      "\u001b[1m2441/2441\u001b[0m \u001b[32m━━━━━━━━━━━━━━━━━━━━\u001b[0m\u001b[37m\u001b[0m \u001b[1m41s\u001b[0m 17ms/step - loss: 3.3077e-05 - val_loss: 1.1339e-05\n",
      "Epoch 67/100\n",
      "\u001b[1m2441/2441\u001b[0m \u001b[32m━━━━━━━━━━━━━━━━━━━━\u001b[0m\u001b[37m\u001b[0m \u001b[1m42s\u001b[0m 17ms/step - loss: 4.4364e-05 - val_loss: 1.0241e-05\n",
      "Epoch 68/100\n",
      "\u001b[1m2441/2441\u001b[0m \u001b[32m━━━━━━━━━━━━━━━━━━━━\u001b[0m\u001b[37m\u001b[0m \u001b[1m83s\u001b[0m 17ms/step - loss: 3.9939e-05 - val_loss: 1.0044e-05\n",
      "Epoch 69/100\n",
      "\u001b[1m2441/2441\u001b[0m \u001b[32m━━━━━━━━━━━━━━━━━━━━\u001b[0m\u001b[37m\u001b[0m \u001b[1m82s\u001b[0m 17ms/step - loss: 5.9031e-05 - val_loss: 9.8188e-06\n",
      "Epoch 70/100\n",
      "\u001b[1m2441/2441\u001b[0m \u001b[32m━━━━━━━━━━━━━━━━━━━━\u001b[0m\u001b[37m\u001b[0m \u001b[1m41s\u001b[0m 17ms/step - loss: 3.7012e-05 - val_loss: 9.9522e-06\n",
      "Epoch 71/100\n",
      "\u001b[1m2441/2441\u001b[0m \u001b[32m━━━━━━━━━━━━━━━━━━━━\u001b[0m\u001b[37m\u001b[0m \u001b[1m82s\u001b[0m 17ms/step - loss: 3.3037e-05 - val_loss: 1.1760e-05\n",
      "Epoch 72/100\n",
      "\u001b[1m2441/2441\u001b[0m \u001b[32m━━━━━━━━━━━━━━━━━━━━\u001b[0m\u001b[37m\u001b[0m \u001b[1m82s\u001b[0m 17ms/step - loss: 3.8178e-05 - val_loss: 9.9129e-06\n",
      "Epoch 73/100\n",
      "\u001b[1m2441/2441\u001b[0m \u001b[32m━━━━━━━━━━━━━━━━━━━━\u001b[0m\u001b[37m\u001b[0m \u001b[1m41s\u001b[0m 17ms/step - loss: 2.9990e-05 - val_loss: 9.9512e-06\n",
      "Epoch 74/100\n",
      "\u001b[1m2441/2441\u001b[0m \u001b[32m━━━━━━━━━━━━━━━━━━━━\u001b[0m\u001b[37m\u001b[0m \u001b[1m83s\u001b[0m 17ms/step - loss: 5.4385e-05 - val_loss: 9.6314e-06\n",
      "Epoch 75/100\n",
      "\u001b[1m2441/2441\u001b[0m \u001b[32m━━━━━━━━━━━━━━━━━━━━\u001b[0m\u001b[37m\u001b[0m \u001b[1m82s\u001b[0m 17ms/step - loss: 5.4045e-05 - val_loss: 9.7102e-06\n",
      "Epoch 76/100\n",
      "\u001b[1m2441/2441\u001b[0m \u001b[32m━━━━━━━━━━━━━━━━━━━━\u001b[0m\u001b[37m\u001b[0m \u001b[1m42s\u001b[0m 17ms/step - loss: 6.1814e-05 - val_loss: 9.8176e-06\n",
      "Epoch 77/100\n",
      "\u001b[1m2441/2441\u001b[0m \u001b[32m━━━━━━━━━━━━━━━━━━━━\u001b[0m\u001b[37m\u001b[0m \u001b[1m81s\u001b[0m 17ms/step - loss: 3.9634e-05 - val_loss: 9.9820e-06\n",
      "Epoch 78/100\n",
      "\u001b[1m2441/2441\u001b[0m \u001b[32m━━━━━━━━━━━━━━━━━━━━\u001b[0m\u001b[37m\u001b[0m \u001b[1m81s\u001b[0m 17ms/step - loss: 6.5880e-05 - val_loss: 9.9726e-06\n",
      "Epoch 79/100\n",
      "\u001b[1m2441/2441\u001b[0m \u001b[32m━━━━━━━━━━━━━━━━━━━━\u001b[0m\u001b[37m\u001b[0m \u001b[1m82s\u001b[0m 17ms/step - loss: 2.9848e-05 - val_loss: 9.9360e-06\n",
      "Epoch 80/100\n",
      "\u001b[1m2441/2441\u001b[0m \u001b[32m━━━━━━━━━━━━━━━━━━━━\u001b[0m\u001b[37m\u001b[0m \u001b[1m41s\u001b[0m 17ms/step - loss: 3.3653e-05 - val_loss: 1.0047e-05\n",
      "Epoch 81/100\n",
      "\u001b[1m2441/2441\u001b[0m \u001b[32m━━━━━━━━━━━━━━━━━━━━\u001b[0m\u001b[37m\u001b[0m \u001b[1m41s\u001b[0m 17ms/step - loss: 5.8685e-05 - val_loss: 1.0301e-05\n",
      "Epoch 82/100\n",
      "\u001b[1m2441/2441\u001b[0m \u001b[32m━━━━━━━━━━━━━━━━━━━━\u001b[0m\u001b[37m\u001b[0m \u001b[1m41s\u001b[0m 17ms/step - loss: 2.9636e-05 - val_loss: 1.1591e-05\n",
      "Epoch 83/100\n",
      "\u001b[1m2441/2441\u001b[0m \u001b[32m━━━━━━━━━━━━━━━━━━━━\u001b[0m\u001b[37m\u001b[0m \u001b[1m41s\u001b[0m 17ms/step - loss: 3.9607e-05 - val_loss: 1.0092e-05\n",
      "Epoch 84/100\n",
      "\u001b[1m2441/2441\u001b[0m \u001b[32m━━━━━━━━━━━━━━━━━━━━\u001b[0m\u001b[37m\u001b[0m \u001b[1m82s\u001b[0m 17ms/step - loss: 3.4501e-05 - val_loss: 1.0179e-05\n",
      "Epoch 85/100\n",
      "\u001b[1m2441/2441\u001b[0m \u001b[32m━━━━━━━━━━━━━━━━━━━━\u001b[0m\u001b[37m\u001b[0m \u001b[1m40s\u001b[0m 17ms/step - loss: 6.1510e-05 - val_loss: 1.0431e-05\n",
      "Epoch 86/100\n",
      "\u001b[1m2441/2441\u001b[0m \u001b[32m━━━━━━━━━━━━━━━━━━━━\u001b[0m\u001b[37m\u001b[0m \u001b[1m42s\u001b[0m 17ms/step - loss: 5.4543e-05 - val_loss: 9.8009e-06\n",
      "Epoch 87/100\n",
      "\u001b[1m2441/2441\u001b[0m \u001b[32m━━━━━━━━━━━━━━━━━━━━\u001b[0m\u001b[37m\u001b[0m \u001b[1m81s\u001b[0m 17ms/step - loss: 3.8398e-05 - val_loss: 1.0313e-05\n",
      "Epoch 88/100\n",
      "\u001b[1m2441/2441\u001b[0m \u001b[32m━━━━━━━━━━━━━━━━━━━━\u001b[0m\u001b[37m\u001b[0m \u001b[1m82s\u001b[0m 17ms/step - loss: 4.0766e-05 - val_loss: 9.6832e-06\n",
      "Epoch 89/100\n",
      "\u001b[1m2441/2441\u001b[0m \u001b[32m━━━━━━━━━━━━━━━━━━━━\u001b[0m\u001b[37m\u001b[0m \u001b[1m42s\u001b[0m 17ms/step - loss: 7.1639e-05 - val_loss: 9.7652e-06\n",
      "Epoch 90/100\n",
      "\u001b[1m2441/2441\u001b[0m \u001b[32m━━━━━━━━━━━━━━━━━━━━\u001b[0m\u001b[37m\u001b[0m \u001b[1m84s\u001b[0m 18ms/step - loss: 3.5136e-05 - val_loss: 9.8198e-06\n",
      "Epoch 91/100\n",
      "\u001b[1m2441/2441\u001b[0m \u001b[32m━━━━━━━━━━━━━━━━━━━━\u001b[0m\u001b[37m\u001b[0m \u001b[1m80s\u001b[0m 17ms/step - loss: 3.3259e-05 - val_loss: 9.8324e-06\n",
      "Epoch 92/100\n",
      "\u001b[1m2441/2441\u001b[0m \u001b[32m━━━━━━━━━━━━━━━━━━━━\u001b[0m\u001b[37m\u001b[0m \u001b[1m43s\u001b[0m 18ms/step - loss: 4.7820e-05 - val_loss: 9.9379e-06\n",
      "Epoch 93/100\n",
      "\u001b[1m2441/2441\u001b[0m \u001b[32m━━━━━━━━━━━━━━━━━━━━\u001b[0m\u001b[37m\u001b[0m \u001b[1m42s\u001b[0m 17ms/step - loss: 2.8490e-05 - val_loss: 9.9377e-06\n",
      "Epoch 94/100\n",
      "\u001b[1m2441/2441\u001b[0m \u001b[32m━━━━━━━━━━━━━━━━━━━━\u001b[0m\u001b[37m\u001b[0m \u001b[1m42s\u001b[0m 17ms/step - loss: 4.4774e-05 - val_loss: 1.0174e-05\n",
      "Epoch 95/100\n",
      "\u001b[1m2441/2441\u001b[0m \u001b[32m━━━━━━━━━━━━━━━━━━━━\u001b[0m\u001b[37m\u001b[0m \u001b[1m40s\u001b[0m 17ms/step - loss: 3.7057e-05 - val_loss: 1.0257e-05\n",
      "Epoch 96/100\n",
      "\u001b[1m2441/2441\u001b[0m \u001b[32m━━━━━━━━━━━━━━━━━━━━\u001b[0m\u001b[37m\u001b[0m \u001b[1m42s\u001b[0m 17ms/step - loss: 3.6814e-05 - val_loss: 1.0702e-05\n",
      "Epoch 97/100\n",
      "\u001b[1m2441/2441\u001b[0m \u001b[32m━━━━━━━━━━━━━━━━━━━━\u001b[0m\u001b[37m\u001b[0m \u001b[1m84s\u001b[0m 18ms/step - loss: 4.1411e-05 - val_loss: 1.0312e-05\n",
      "Epoch 98/100\n",
      "\u001b[1m2441/2441\u001b[0m \u001b[32m━━━━━━━━━━━━━━━━━━━━\u001b[0m\u001b[37m\u001b[0m \u001b[1m42s\u001b[0m 17ms/step - loss: 4.0148e-05 - val_loss: 9.7980e-06\n",
      "Epoch 99/100\n",
      "\u001b[1m2441/2441\u001b[0m \u001b[32m━━━━━━━━━━━━━━━━━━━━\u001b[0m\u001b[37m\u001b[0m \u001b[1m41s\u001b[0m 17ms/step - loss: 3.3671e-05 - val_loss: 1.0195e-05\n",
      "Epoch 100/100\n",
      "\u001b[1m2441/2441\u001b[0m \u001b[32m━━━━━━━━━━━━━━━━━━━━\u001b[0m\u001b[37m\u001b[0m \u001b[1m42s\u001b[0m 17ms/step - loss: 4.0029e-05 - val_loss: 9.8953e-06\n"
     ]
    },
    {
     "data": {
      "text/plain": [
       "<keras.src.callbacks.history.History at 0x79bddbd7b640>"
      ]
     },
     "execution_count": 17,
     "metadata": {},
     "output_type": "execute_result"
    }
   ],
   "source": [
    "from tensorflow.keras.models import Sequential\n",
    "from tensorflow.keras.layers import LSTM, Dense\n",
    "# Build and train LSTM model\n",
    "model = Sequential()\n",
    "model.add(LSTM(64, input_shape=(window_size, 1)))\n",
    "model.add(Dense(3))  # Output shape: (None, 3) for 3-day prediction\n",
    "model.compile(optimizer='adam', loss='mse')\n",
    "model.fit(X_train, y_train, epochs=100, batch_size=32, validation_data=(X_test, y_test))"
   ]
  },
  {
   "cell_type": "code",
   "execution_count": 18,
   "id": "a015379a",
   "metadata": {
    "execution": {
     "iopub.execute_input": "2024-03-16T07:23:43.018180Z",
     "iopub.status.busy": "2024-03-16T07:23:43.017698Z",
     "iopub.status.idle": "2024-03-16T07:23:48.082586Z",
     "shell.execute_reply": "2024-03-16T07:23:48.081051Z"
    },
    "papermill": {
     "duration": 11.902955,
     "end_time": "2024-03-16T07:23:48.085801",
     "exception": false,
     "start_time": "2024-03-16T07:23:36.182846",
     "status": "completed"
    },
    "tags": []
   },
   "outputs": [
    {
     "name": "stdout",
     "output_type": "stream",
     "text": [
      "\u001b[1m611/611\u001b[0m \u001b[32m━━━━━━━━━━━━━━━━━━━━\u001b[0m\u001b[37m\u001b[0m \u001b[1m5s\u001b[0m 7ms/step\n"
     ]
    }
   ],
   "source": [
    "# Make predictions\n",
    "predictions = model.predict(X_test)\n",
    "predictions = scaler.inverse_transform(predictions)"
   ]
  },
  {
   "cell_type": "code",
   "execution_count": 19,
   "id": "b0e9e553",
   "metadata": {
    "execution": {
     "iopub.execute_input": "2024-03-16T07:24:01.376657Z",
     "iopub.status.busy": "2024-03-16T07:24:01.376184Z",
     "iopub.status.idle": "2024-03-16T07:24:01.385667Z",
     "shell.execute_reply": "2024-03-16T07:24:01.384003Z"
    },
    "papermill": {
     "duration": 6.69475,
     "end_time": "2024-03-16T07:24:01.389185",
     "exception": false,
     "start_time": "2024-03-16T07:23:54.694435",
     "status": "completed"
    },
    "tags": []
   },
   "outputs": [
    {
     "data": {
      "text/plain": [
       "array([[102.33142 , 102.12079 , 102.12815 ],\n",
       "       [101.38655 , 101.052025, 100.98773 ],\n",
       "       [ 99.527336,  99.04941 ,  98.92146 ],\n",
       "       ...,\n",
       "       [ 16.550594,  16.413258,  16.736498],\n",
       "       [ 16.538742,  16.398031,  16.719738],\n",
       "       [ 16.553204,  16.414171,  16.737612]], dtype=float32)"
      ]
     },
     "execution_count": 19,
     "metadata": {},
     "output_type": "execute_result"
    }
   ],
   "source": [
    "predictions"
   ]
  },
  {
   "cell_type": "code",
   "execution_count": 20,
   "id": "b64ad9ff",
   "metadata": {
    "execution": {
     "iopub.execute_input": "2024-03-16T07:24:14.797828Z",
     "iopub.status.busy": "2024-03-16T07:24:14.797361Z",
     "iopub.status.idle": "2024-03-16T07:24:14.811391Z",
     "shell.execute_reply": "2024-03-16T07:24:14.809761Z"
    },
    "papermill": {
     "duration": 6.820641,
     "end_time": "2024-03-16T07:24:14.814074",
     "exception": false,
     "start_time": "2024-03-16T07:24:07.993433",
     "status": "completed"
    },
    "tags": []
   },
   "outputs": [
    {
     "name": "stdout",
     "output_type": "stream",
     "text": [
      "RMSE: 2.2685208578152585\n"
     ]
    }
   ],
   "source": [
    "from sklearn.metrics import mean_squared_error\n",
    "# Get the actual values from y_test\n",
    "y_test = scaler.inverse_transform(y_test)\n",
    "\n",
    "# Calculate the RMSE\n",
    "rmse = np.sqrt(mean_squared_error(y_test, predictions))\n",
    "print(f\"RMSE: {rmse}\")"
   ]
  },
  {
   "cell_type": "code",
   "execution_count": 21,
   "id": "c144445b",
   "metadata": {
    "execution": {
     "iopub.execute_input": "2024-03-16T07:24:28.233604Z",
     "iopub.status.busy": "2024-03-16T07:24:28.232701Z",
     "iopub.status.idle": "2024-03-16T07:24:28.243569Z",
     "shell.execute_reply": "2024-03-16T07:24:28.242135Z"
    },
    "papermill": {
     "duration": 6.717814,
     "end_time": "2024-03-16T07:24:28.246186",
     "exception": false,
     "start_time": "2024-03-16T07:24:21.528372",
     "status": "completed"
    },
    "tags": []
   },
   "outputs": [
    {
     "name": "stdout",
     "output_type": "stream",
     "text": [
      "MAE: 0.9666040403396122\n",
      "MAPE: 0.02474898972822684\n"
     ]
    }
   ],
   "source": [
    "from sklearn.metrics import mean_absolute_error, mean_absolute_percentage_error\n",
    "\n",
    "mae = mean_absolute_error(y_test, predictions)\n",
    "mape = mean_absolute_percentage_error(y_test, predictions)\n",
    "print(f\"MAE: {mae}\")\n",
    "print(f\"MAPE: {mape}\")"
   ]
  },
  {
   "cell_type": "code",
   "execution_count": null,
   "id": "71ba684b",
   "metadata": {
    "papermill": {
     "duration": 6.66336,
     "end_time": "2024-03-16T07:24:41.501066",
     "exception": false,
     "start_time": "2024-03-16T07:24:34.837706",
     "status": "completed"
    },
    "tags": []
   },
   "outputs": [],
   "source": []
  }
 ],
 "metadata": {
  "kaggle": {
   "accelerator": "none",
   "dataSources": [
    {
     "datasetId": 588108,
     "sourceId": 5346992,
     "sourceType": "datasetVersion"
    }
   ],
   "dockerImageVersionId": 30664,
   "isGpuEnabled": false,
   "isInternetEnabled": true,
   "language": "python",
   "sourceType": "notebook"
  },
  "kernelspec": {
   "display_name": "Python 3",
   "language": "python",
   "name": "python3"
  },
  "language_info": {
   "codemirror_mode": {
    "name": "ipython",
    "version": 3
   },
   "file_extension": ".py",
   "mimetype": "text/x-python",
   "name": "python",
   "nbconvert_exporter": "python",
   "pygments_lexer": "ipython3",
   "version": "3.10.13"
  },
  "papermill": {
   "default_parameters": {},
   "duration": 6125.758356,
   "end_time": "2024-03-16T07:24:51.604641",
   "environment_variables": {},
   "exception": null,
   "input_path": "__notebook__.ipynb",
   "output_path": "__notebook__.ipynb",
   "parameters": {},
   "start_time": "2024-03-16T05:42:45.846285",
   "version": "2.5.0"
  }
 },
 "nbformat": 4,
 "nbformat_minor": 5
}
