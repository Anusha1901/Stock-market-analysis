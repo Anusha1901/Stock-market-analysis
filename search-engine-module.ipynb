{
 "cells": [
  {
   "cell_type": "code",
   "execution_count": 1,
   "id": "2e9dbd55",
   "metadata": {
    "_cell_guid": "b1076dfc-b9ad-4769-8c92-a6c4dae69d19",
    "_uuid": "8f2839f25d086af736a60e9eeb907d3b93b6e0e5",
    "execution": {
     "iopub.execute_input": "2024-03-17T07:45:32.001399Z",
     "iopub.status.busy": "2024-03-17T07:45:32.000135Z",
     "iopub.status.idle": "2024-03-17T07:45:33.044974Z",
     "shell.execute_reply": "2024-03-17T07:45:33.043183Z"
    },
    "papermill": {
     "duration": 1.055155,
     "end_time": "2024-03-17T07:45:33.047657",
     "exception": false,
     "start_time": "2024-03-17T07:45:31.992502",
     "status": "completed"
    },
    "tags": []
   },
   "outputs": [
    {
     "name": "stdout",
     "output_type": "stream",
     "text": [
      "/kaggle/input/stock-tweets-for-sentiment-analysis-and-prediction/stock_yfinance_data.csv\n",
      "/kaggle/input/stock-tweets-for-sentiment-analysis-and-prediction/stock_tweets.csv\n"
     ]
    }
   ],
   "source": [
    "# This Python 3 environment comes with many helpful analytics libraries installed\n",
    "# It is defined by the kaggle/python Docker image: https://github.com/kaggle/docker-python\n",
    "# For example, here's several helpful packages to load\n",
    "\n",
    "import numpy as np # linear algebra\n",
    "import pandas as pd # data processing, CSV file I/O (e.g. pd.read_csv)\n",
    "\n",
    "# Input data files are available in the read-only \"../input/\" directory\n",
    "# For example, running this (by clicking run or pressing Shift+Enter) will list all files under the input directory\n",
    "\n",
    "import os\n",
    "for dirname, _, filenames in os.walk('/kaggle/input'):\n",
    "    for filename in filenames:\n",
    "        print(os.path.join(dirname, filename))\n",
    "\n",
    "# You can write up to 20GB to the current directory (/kaggle/working/) that gets preserved as output when you create a version using \"Save & Run All\" \n",
    "# You can also write temporary files to /kaggle/temp/, but they won't be saved outside of the current session"
   ]
  },
  {
   "cell_type": "code",
   "execution_count": 2,
   "id": "90897d8a",
   "metadata": {
    "execution": {
     "iopub.execute_input": "2024-03-17T07:45:33.059004Z",
     "iopub.status.busy": "2024-03-17T07:45:33.058395Z",
     "iopub.status.idle": "2024-03-17T07:45:35.305557Z",
     "shell.execute_reply": "2024-03-17T07:45:35.304111Z"
    },
    "papermill": {
     "duration": 2.256363,
     "end_time": "2024-03-17T07:45:35.308784",
     "exception": false,
     "start_time": "2024-03-17T07:45:33.052421",
     "status": "completed"
    },
    "tags": []
   },
   "outputs": [],
   "source": [
    "import pandas as pd\n",
    "import nltk\n",
    "from nltk.corpus import stopwords\n",
    "from nltk.stem import PorterStemmer\n",
    "from sklearn.feature_extraction.text import TfidfVectorizer\n",
    "from sklearn.metrics.pairwise import cosine_similarity"
   ]
  },
  {
   "cell_type": "code",
   "execution_count": 3,
   "id": "df389fef",
   "metadata": {
    "execution": {
     "iopub.execute_input": "2024-03-17T07:45:35.320070Z",
     "iopub.status.busy": "2024-03-17T07:45:35.319672Z",
     "iopub.status.idle": "2024-03-17T07:45:36.128775Z",
     "shell.execute_reply": "2024-03-17T07:45:36.127571Z"
    },
    "papermill": {
     "duration": 0.818539,
     "end_time": "2024-03-17T07:45:36.132014",
     "exception": false,
     "start_time": "2024-03-17T07:45:35.313475",
     "status": "completed"
    },
    "tags": []
   },
   "outputs": [
    {
     "data": {
      "text/html": [
       "<div>\n",
       "<style scoped>\n",
       "    .dataframe tbody tr th:only-of-type {\n",
       "        vertical-align: middle;\n",
       "    }\n",
       "\n",
       "    .dataframe tbody tr th {\n",
       "        vertical-align: top;\n",
       "    }\n",
       "\n",
       "    .dataframe thead th {\n",
       "        text-align: right;\n",
       "    }\n",
       "</style>\n",
       "<table border=\"1\" class=\"dataframe\">\n",
       "  <thead>\n",
       "    <tr style=\"text-align: right;\">\n",
       "      <th></th>\n",
       "      <th>Date</th>\n",
       "      <th>Tweet</th>\n",
       "      <th>Stock Name</th>\n",
       "      <th>Company Name</th>\n",
       "    </tr>\n",
       "  </thead>\n",
       "  <tbody>\n",
       "    <tr>\n",
       "      <th>0</th>\n",
       "      <td>2022-09-29 23:41:16+00:00</td>\n",
       "      <td>Mainstream media has done an amazing job at br...</td>\n",
       "      <td>TSLA</td>\n",
       "      <td>Tesla, Inc.</td>\n",
       "    </tr>\n",
       "    <tr>\n",
       "      <th>1</th>\n",
       "      <td>2022-09-29 23:24:43+00:00</td>\n",
       "      <td>Tesla delivery estimates are at around 364k fr...</td>\n",
       "      <td>TSLA</td>\n",
       "      <td>Tesla, Inc.</td>\n",
       "    </tr>\n",
       "    <tr>\n",
       "      <th>2</th>\n",
       "      <td>2022-09-29 23:18:08+00:00</td>\n",
       "      <td>3/ Even if I include 63.0M unvested RSUs as of...</td>\n",
       "      <td>TSLA</td>\n",
       "      <td>Tesla, Inc.</td>\n",
       "    </tr>\n",
       "    <tr>\n",
       "      <th>3</th>\n",
       "      <td>2022-09-29 22:40:07+00:00</td>\n",
       "      <td>@RealDanODowd @WholeMarsBlog @Tesla Hahaha why...</td>\n",
       "      <td>TSLA</td>\n",
       "      <td>Tesla, Inc.</td>\n",
       "    </tr>\n",
       "    <tr>\n",
       "      <th>4</th>\n",
       "      <td>2022-09-29 22:27:05+00:00</td>\n",
       "      <td>@RealDanODowd @Tesla Stop trying to kill kids,...</td>\n",
       "      <td>TSLA</td>\n",
       "      <td>Tesla, Inc.</td>\n",
       "    </tr>\n",
       "  </tbody>\n",
       "</table>\n",
       "</div>"
      ],
      "text/plain": [
       "                        Date  \\\n",
       "0  2022-09-29 23:41:16+00:00   \n",
       "1  2022-09-29 23:24:43+00:00   \n",
       "2  2022-09-29 23:18:08+00:00   \n",
       "3  2022-09-29 22:40:07+00:00   \n",
       "4  2022-09-29 22:27:05+00:00   \n",
       "\n",
       "                                               Tweet Stock Name Company Name  \n",
       "0  Mainstream media has done an amazing job at br...       TSLA  Tesla, Inc.  \n",
       "1  Tesla delivery estimates are at around 364k fr...       TSLA  Tesla, Inc.  \n",
       "2  3/ Even if I include 63.0M unvested RSUs as of...       TSLA  Tesla, Inc.  \n",
       "3  @RealDanODowd @WholeMarsBlog @Tesla Hahaha why...       TSLA  Tesla, Inc.  \n",
       "4  @RealDanODowd @Tesla Stop trying to kill kids,...       TSLA  Tesla, Inc.  "
      ]
     },
     "execution_count": 3,
     "metadata": {},
     "output_type": "execute_result"
    }
   ],
   "source": [
    "# Load the stock tweets dataset\n",
    "df = pd.read_csv('/kaggle/input/stock-tweets-for-sentiment-analysis-and-prediction/stock_tweets.csv')\n",
    "df.head()"
   ]
  },
  {
   "cell_type": "code",
   "execution_count": null,
   "id": "020397d5",
   "metadata": {
    "papermill": {
     "duration": 0.005016,
     "end_time": "2024-03-17T07:45:36.142673",
     "exception": false,
     "start_time": "2024-03-17T07:45:36.137657",
     "status": "completed"
    },
    "tags": []
   },
   "outputs": [],
   "source": []
  },
  {
   "cell_type": "code",
   "execution_count": 4,
   "id": "ecfe5cc1",
   "metadata": {
    "execution": {
     "iopub.execute_input": "2024-03-17T07:45:36.155710Z",
     "iopub.status.busy": "2024-03-17T07:45:36.155268Z",
     "iopub.status.idle": "2024-03-17T07:45:36.169438Z",
     "shell.execute_reply": "2024-03-17T07:45:36.168105Z"
    },
    "papermill": {
     "duration": 0.024293,
     "end_time": "2024-03-17T07:45:36.172828",
     "exception": false,
     "start_time": "2024-03-17T07:45:36.148535",
     "status": "completed"
    },
    "tags": []
   },
   "outputs": [],
   "source": [
    "# Text preprocessing\n",
    "stop_words = set(stopwords.words('english'))\n",
    "stemmer = PorterStemmer()"
   ]
  },
  {
   "cell_type": "code",
   "execution_count": 5,
   "id": "1c1c225b",
   "metadata": {
    "execution": {
     "iopub.execute_input": "2024-03-17T07:45:36.185957Z",
     "iopub.status.busy": "2024-03-17T07:45:36.185512Z",
     "iopub.status.idle": "2024-03-17T07:45:36.191472Z",
     "shell.execute_reply": "2024-03-17T07:45:36.190527Z"
    },
    "papermill": {
     "duration": 0.015601,
     "end_time": "2024-03-17T07:45:36.193643",
     "exception": false,
     "start_time": "2024-03-17T07:45:36.178042",
     "status": "completed"
    },
    "tags": []
   },
   "outputs": [],
   "source": [
    "def preprocess_text(text):\n",
    "    tokens = nltk.word_tokenize(text.lower())\n",
    "    filtered_tokens = [stemmer.stem(token) for token in tokens if token not in stop_words]\n",
    "    return ' '.join(filtered_tokens)"
   ]
  },
  {
   "cell_type": "code",
   "execution_count": 6,
   "id": "65a2d453",
   "metadata": {
    "execution": {
     "iopub.execute_input": "2024-03-17T07:45:36.206783Z",
     "iopub.status.busy": "2024-03-17T07:45:36.206298Z",
     "iopub.status.idle": "2024-03-17T07:47:16.831288Z",
     "shell.execute_reply": "2024-03-17T07:47:16.830254Z"
    },
    "papermill": {
     "duration": 100.636052,
     "end_time": "2024-03-17T07:47:16.835291",
     "exception": false,
     "start_time": "2024-03-17T07:45:36.199239",
     "status": "completed"
    },
    "tags": []
   },
   "outputs": [],
   "source": [
    "df['preprocessed_text'] = df['Tweet'].apply(preprocess_text)"
   ]
  },
  {
   "cell_type": "code",
   "execution_count": 7,
   "id": "44fa6267",
   "metadata": {
    "execution": {
     "iopub.execute_input": "2024-03-17T07:47:16.852624Z",
     "iopub.status.busy": "2024-03-17T07:47:16.851893Z",
     "iopub.status.idle": "2024-03-17T07:47:19.920427Z",
     "shell.execute_reply": "2024-03-17T07:47:19.919245Z"
    },
    "papermill": {
     "duration": 3.080601,
     "end_time": "2024-03-17T07:47:19.923595",
     "exception": false,
     "start_time": "2024-03-17T07:47:16.842994",
     "status": "completed"
    },
    "tags": []
   },
   "outputs": [],
   "source": [
    "# Create TF-IDF vectorizer\n",
    "vectorizer = TfidfVectorizer()\n",
    "tfidf_matrix = vectorizer.fit_transform(df['preprocessed_text'])"
   ]
  },
  {
   "cell_type": "code",
   "execution_count": 8,
   "id": "8227f9bc",
   "metadata": {
    "execution": {
     "iopub.execute_input": "2024-03-17T07:47:19.936135Z",
     "iopub.status.busy": "2024-03-17T07:47:19.935280Z",
     "iopub.status.idle": "2024-03-17T07:47:19.942707Z",
     "shell.execute_reply": "2024-03-17T07:47:19.941393Z"
    },
    "papermill": {
     "duration": 0.016696,
     "end_time": "2024-03-17T07:47:19.945422",
     "exception": false,
     "start_time": "2024-03-17T07:47:19.928726",
     "status": "completed"
    },
    "tags": []
   },
   "outputs": [],
   "source": [
    "# Search function\n",
    "def search_tweets(query):\n",
    "    preprocessed_query = preprocess_text(query)\n",
    "    query_vector = vectorizer.transform([preprocessed_query])\n",
    "    \n",
    "    # Calculate cosine similarity between query and tweet texts\n",
    "    similarities = cosine_similarity(query_vector, tfidf_matrix).flatten()\n",
    "    \n",
    "    # Sort tweets based on similarity scores\n",
    "    sorted_indices = similarities.argsort()[::-1]\n",
    "    \n",
    "    # Return sorted tweet data\n",
    "    sorted_tweets = df.iloc[sorted_indices]\n",
    "    return sorted_tweets"
   ]
  },
  {
   "cell_type": "code",
   "execution_count": 9,
   "id": "48868238",
   "metadata": {
    "execution": {
     "iopub.execute_input": "2024-03-17T07:47:19.958326Z",
     "iopub.status.busy": "2024-03-17T07:47:19.957215Z",
     "iopub.status.idle": "2024-03-17T07:47:20.060618Z",
     "shell.execute_reply": "2024-03-17T07:47:20.059476Z"
    },
    "papermill": {
     "duration": 0.11283,
     "end_time": "2024-03-17T07:47:20.063346",
     "exception": false,
     "start_time": "2024-03-17T07:47:19.950516",
     "status": "completed"
    },
    "tags": []
   },
   "outputs": [
    {
     "name": "stdout",
     "output_type": "stream",
     "text": [
      "                                                   Tweet\n",
      "9383              There is only one Tesla company\\n$TSLA\n",
      "26104    $TSLA isn’t a car company. It’s a tech company.\n",
      "1266   $TSLA is the only growth company and the only ...\n",
      "20941  Not a lot of public company CEOs own 21% of th...\n",
      "12247  \"@tesla is as much a software company as it is...\n",
      "...                                                  ...\n",
      "53476  Me go on rust try make goog video off stream w...\n",
      "53477                                  Buying more $GOOG\n",
      "53478  $GOOG is trading at &lt;22x LTM, likely &lt;18...\n",
      "53479  I cut $GOOG at 2920 after the maps were all ov...\n",
      "40396  AMZN Last 1 min! (1) it was a beauty to observ...\n",
      "\n",
      "[80793 rows x 1 columns]\n"
     ]
    }
   ],
   "source": [
    "# Example usage\n",
    "search_query = \"Tesla company \"\n",
    "relevant_tweets = search_tweets(search_query)\n",
    "print(relevant_tweets[['Tweet']])"
   ]
  }
 ],
 "metadata": {
  "kaggle": {
   "accelerator": "none",
   "dataSources": [
    {
     "datasetId": 2706935,
     "sourceId": 4664772,
     "sourceType": "datasetVersion"
    }
   ],
   "dockerImageVersionId": 30664,
   "isGpuEnabled": false,
   "isInternetEnabled": true,
   "language": "python",
   "sourceType": "notebook"
  },
  "kernelspec": {
   "display_name": "Python 3",
   "language": "python",
   "name": "python3"
  },
  "language_info": {
   "codemirror_mode": {
    "name": "ipython",
    "version": 3
   },
   "file_extension": ".py",
   "mimetype": "text/x-python",
   "name": "python",
   "nbconvert_exporter": "python",
   "pygments_lexer": "ipython3",
   "version": "3.10.13"
  },
  "papermill": {
   "default_parameters": {},
   "duration": 112.068459,
   "end_time": "2024-03-17T07:47:20.892094",
   "environment_variables": {},
   "exception": null,
   "input_path": "__notebook__.ipynb",
   "output_path": "__notebook__.ipynb",
   "parameters": {},
   "start_time": "2024-03-17T07:45:28.823635",
   "version": "2.5.0"
  }
 },
 "nbformat": 4,
 "nbformat_minor": 5
}
