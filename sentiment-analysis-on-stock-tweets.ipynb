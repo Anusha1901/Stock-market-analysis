{
 "cells": [
  {
   "cell_type": "code",
   "execution_count": 1,
   "id": "2880089f",
   "metadata": {
    "_cell_guid": "b1076dfc-b9ad-4769-8c92-a6c4dae69d19",
    "_uuid": "8f2839f25d086af736a60e9eeb907d3b93b6e0e5",
    "execution": {
     "iopub.execute_input": "2024-03-16T04:36:01.818746Z",
     "iopub.status.busy": "2024-03-16T04:36:01.818251Z",
     "iopub.status.idle": "2024-03-16T04:36:02.858702Z",
     "shell.execute_reply": "2024-03-16T04:36:02.857272Z"
    },
    "papermill": {
     "duration": 1.050642,
     "end_time": "2024-03-16T04:36:02.861288",
     "exception": false,
     "start_time": "2024-03-16T04:36:01.810646",
     "status": "completed"
    },
    "tags": []
   },
   "outputs": [
    {
     "name": "stdout",
     "output_type": "stream",
     "text": [
      "/kaggle/input/stock-tweets-for-sentiment-analysis-and-prediction/stock_yfinance_data.csv\n",
      "/kaggle/input/stock-tweets-for-sentiment-analysis-and-prediction/stock_tweets.csv\n"
     ]
    }
   ],
   "source": [
    "# This Python 3 environment comes with many helpful analytics libraries installed\n",
    "# It is defined by the kaggle/python Docker image: https://github.com/kaggle/docker-python\n",
    "# For example, here's several helpful packages to load\n",
    "\n",
    "import numpy as np # linear algebra\n",
    "import pandas as pd # data processing, CSV file I/O (e.g. pd.read_csv)\n",
    "\n",
    "# Input data files are available in the read-only \"../input/\" directory\n",
    "# For example, running this (by clicking run or pressing Shift+Enter) will list all files under the input directory\n",
    "\n",
    "import os\n",
    "for dirname, _, filenames in os.walk('/kaggle/input'):\n",
    "    for filename in filenames:\n",
    "        print(os.path.join(dirname, filename))\n",
    "\n",
    "# You can write up to 20GB to the current directory (/kaggle/working/) that gets preserved as output when you create a version using \"Save & Run All\" \n",
    "# You can also write temporary files to /kaggle/temp/, but they won't be saved outside of the current session"
   ]
  },
  {
   "cell_type": "code",
   "execution_count": 2,
   "id": "6cd4aafe",
   "metadata": {
    "execution": {
     "iopub.execute_input": "2024-03-16T04:36:02.875001Z",
     "iopub.status.busy": "2024-03-16T04:36:02.873909Z",
     "iopub.status.idle": "2024-03-16T04:36:05.376633Z",
     "shell.execute_reply": "2024-03-16T04:36:05.375341Z"
    },
    "papermill": {
     "duration": 2.512005,
     "end_time": "2024-03-16T04:36:05.379165",
     "exception": false,
     "start_time": "2024-03-16T04:36:02.867160",
     "status": "completed"
    },
    "tags": []
   },
   "outputs": [
    {
     "name": "stdout",
     "output_type": "stream",
     "text": [
      "[nltk_data] Downloading package vader_lexicon to\n",
      "[nltk_data]     /usr/share/nltk_data...\n",
      "[nltk_data]   Package vader_lexicon is already up-to-date!\n"
     ]
    },
    {
     "name": "stderr",
     "output_type": "stream",
     "text": [
      "/opt/conda/lib/python3.10/site-packages/nltk/twitter/__init__.py:20: UserWarning: The twython library has not been installed. Some functionality from the twitter package will not be available.\n",
      "  warnings.warn(\"The twython library has not been installed. \"\n"
     ]
    }
   ],
   "source": [
    "import pandas as pd\n",
    "import nltk\n",
    "nltk.download('vader_lexicon')\n",
    "from nltk.sentiment.vader import SentimentIntensityAnalyzer"
   ]
  },
  {
   "cell_type": "code",
   "execution_count": 3,
   "id": "8b279a04",
   "metadata": {
    "execution": {
     "iopub.execute_input": "2024-03-16T04:36:05.392535Z",
     "iopub.status.busy": "2024-03-16T04:36:05.391650Z",
     "iopub.status.idle": "2024-03-16T04:36:06.094551Z",
     "shell.execute_reply": "2024-03-16T04:36:06.093386Z"
    },
    "papermill": {
     "duration": 0.712602,
     "end_time": "2024-03-16T04:36:06.097240",
     "exception": false,
     "start_time": "2024-03-16T04:36:05.384638",
     "status": "completed"
    },
    "tags": []
   },
   "outputs": [
    {
     "data": {
      "text/html": [
       "<div>\n",
       "<style scoped>\n",
       "    .dataframe tbody tr th:only-of-type {\n",
       "        vertical-align: middle;\n",
       "    }\n",
       "\n",
       "    .dataframe tbody tr th {\n",
       "        vertical-align: top;\n",
       "    }\n",
       "\n",
       "    .dataframe thead th {\n",
       "        text-align: right;\n",
       "    }\n",
       "</style>\n",
       "<table border=\"1\" class=\"dataframe\">\n",
       "  <thead>\n",
       "    <tr style=\"text-align: right;\">\n",
       "      <th></th>\n",
       "      <th>Date</th>\n",
       "      <th>Tweet</th>\n",
       "      <th>Stock Name</th>\n",
       "      <th>Company Name</th>\n",
       "    </tr>\n",
       "  </thead>\n",
       "  <tbody>\n",
       "    <tr>\n",
       "      <th>0</th>\n",
       "      <td>2022-09-29 23:41:16+00:00</td>\n",
       "      <td>Mainstream media has done an amazing job at br...</td>\n",
       "      <td>TSLA</td>\n",
       "      <td>Tesla, Inc.</td>\n",
       "    </tr>\n",
       "    <tr>\n",
       "      <th>1</th>\n",
       "      <td>2022-09-29 23:24:43+00:00</td>\n",
       "      <td>Tesla delivery estimates are at around 364k fr...</td>\n",
       "      <td>TSLA</td>\n",
       "      <td>Tesla, Inc.</td>\n",
       "    </tr>\n",
       "    <tr>\n",
       "      <th>2</th>\n",
       "      <td>2022-09-29 23:18:08+00:00</td>\n",
       "      <td>3/ Even if I include 63.0M unvested RSUs as of...</td>\n",
       "      <td>TSLA</td>\n",
       "      <td>Tesla, Inc.</td>\n",
       "    </tr>\n",
       "    <tr>\n",
       "      <th>3</th>\n",
       "      <td>2022-09-29 22:40:07+00:00</td>\n",
       "      <td>@RealDanODowd @WholeMarsBlog @Tesla Hahaha why...</td>\n",
       "      <td>TSLA</td>\n",
       "      <td>Tesla, Inc.</td>\n",
       "    </tr>\n",
       "    <tr>\n",
       "      <th>4</th>\n",
       "      <td>2022-09-29 22:27:05+00:00</td>\n",
       "      <td>@RealDanODowd @Tesla Stop trying to kill kids,...</td>\n",
       "      <td>TSLA</td>\n",
       "      <td>Tesla, Inc.</td>\n",
       "    </tr>\n",
       "  </tbody>\n",
       "</table>\n",
       "</div>"
      ],
      "text/plain": [
       "                        Date  \\\n",
       "0  2022-09-29 23:41:16+00:00   \n",
       "1  2022-09-29 23:24:43+00:00   \n",
       "2  2022-09-29 23:18:08+00:00   \n",
       "3  2022-09-29 22:40:07+00:00   \n",
       "4  2022-09-29 22:27:05+00:00   \n",
       "\n",
       "                                               Tweet Stock Name Company Name  \n",
       "0  Mainstream media has done an amazing job at br...       TSLA  Tesla, Inc.  \n",
       "1  Tesla delivery estimates are at around 364k fr...       TSLA  Tesla, Inc.  \n",
       "2  3/ Even if I include 63.0M unvested RSUs as of...       TSLA  Tesla, Inc.  \n",
       "3  @RealDanODowd @WholeMarsBlog @Tesla Hahaha why...       TSLA  Tesla, Inc.  \n",
       "4  @RealDanODowd @Tesla Stop trying to kill kids,...       TSLA  Tesla, Inc.  "
      ]
     },
     "execution_count": 3,
     "metadata": {},
     "output_type": "execute_result"
    }
   ],
   "source": [
    "# Load data\n",
    "df = pd.read_csv('/kaggle/input/stock-tweets-for-sentiment-analysis-and-prediction/stock_tweets.csv')\n",
    "df.head()"
   ]
  },
  {
   "cell_type": "code",
   "execution_count": 4,
   "id": "d3189ca2",
   "metadata": {
    "execution": {
     "iopub.execute_input": "2024-03-16T04:36:06.111314Z",
     "iopub.status.busy": "2024-03-16T04:36:06.110322Z",
     "iopub.status.idle": "2024-03-16T04:36:06.132198Z",
     "shell.execute_reply": "2024-03-16T04:36:06.131005Z"
    },
    "papermill": {
     "duration": 0.031905,
     "end_time": "2024-03-16T04:36:06.135121",
     "exception": false,
     "start_time": "2024-03-16T04:36:06.103216",
     "status": "completed"
    },
    "tags": []
   },
   "outputs": [],
   "source": [
    "# Initialize sentiment analyzer\n",
    "analyzer = SentimentIntensityAnalyzer()"
   ]
  },
  {
   "cell_type": "code",
   "execution_count": 5,
   "id": "be52306c",
   "metadata": {
    "execution": {
     "iopub.execute_input": "2024-03-16T04:36:06.148068Z",
     "iopub.status.busy": "2024-03-16T04:36:06.147667Z",
     "iopub.status.idle": "2024-03-16T04:36:44.902988Z",
     "shell.execute_reply": "2024-03-16T04:36:44.901473Z"
    },
    "papermill": {
     "duration": 38.765447,
     "end_time": "2024-03-16T04:36:44.906260",
     "exception": false,
     "start_time": "2024-03-16T04:36:06.140813",
     "status": "completed"
    },
    "tags": []
   },
   "outputs": [],
   "source": [
    "# Perform sentiment analysis\n",
    "df['scores'] = df['Tweet'].apply(lambda text: analyzer.polarity_scores(text))\n",
    "df['compound'] = df['scores'].apply(lambda score_dict: score_dict['compound'])\n",
    "df['sentiment'] = df['compound'].apply(lambda score: 'positive' if score >= 0.05 else 'negative' if score <= -0.05 else 'neutral')"
   ]
  },
  {
   "cell_type": "code",
   "execution_count": 6,
   "id": "90afe95a",
   "metadata": {
    "execution": {
     "iopub.execute_input": "2024-03-16T04:36:44.920422Z",
     "iopub.status.busy": "2024-03-16T04:36:44.919981Z",
     "iopub.status.idle": "2024-03-16T04:36:44.925310Z",
     "shell.execute_reply": "2024-03-16T04:36:44.924035Z"
    },
    "papermill": {
     "duration": 0.015414,
     "end_time": "2024-03-16T04:36:44.928133",
     "exception": false,
     "start_time": "2024-03-16T04:36:44.912719",
     "status": "completed"
    },
    "tags": []
   },
   "outputs": [],
   "source": [
    "# Specify the stock name you want to analyze\n",
    "stock_name = 'TSLA'"
   ]
  },
  {
   "cell_type": "code",
   "execution_count": 7,
   "id": "9b6140e6",
   "metadata": {
    "execution": {
     "iopub.execute_input": "2024-03-16T04:36:44.941616Z",
     "iopub.status.busy": "2024-03-16T04:36:44.941218Z",
     "iopub.status.idle": "2024-03-16T04:36:44.976224Z",
     "shell.execute_reply": "2024-03-16T04:36:44.975143Z"
    },
    "papermill": {
     "duration": 0.045285,
     "end_time": "2024-03-16T04:36:44.979301",
     "exception": false,
     "start_time": "2024-03-16T04:36:44.934016",
     "status": "completed"
    },
    "tags": []
   },
   "outputs": [],
   "source": [
    "# Filter the DataFrame for the specified stock\n",
    "stock_data = df.loc[df['Stock Name'] == stock_name]"
   ]
  },
  {
   "cell_type": "code",
   "execution_count": 8,
   "id": "a6b9690f",
   "metadata": {
    "execution": {
     "iopub.execute_input": "2024-03-16T04:36:44.993777Z",
     "iopub.status.busy": "2024-03-16T04:36:44.992912Z",
     "iopub.status.idle": "2024-03-16T04:36:45.016938Z",
     "shell.execute_reply": "2024-03-16T04:36:45.015328Z"
    },
    "papermill": {
     "duration": 0.034875,
     "end_time": "2024-03-16T04:36:45.020008",
     "exception": false,
     "start_time": "2024-03-16T04:36:44.985133",
     "status": "completed"
    },
    "tags": []
   },
   "outputs": [
    {
     "name": "stdout",
     "output_type": "stream",
     "text": [
      "Sentiment Scores for TSLA:\n",
      "      sentiment  compound\n",
      "0      positive    0.0772\n",
      "1       neutral    0.0000\n",
      "2      positive    0.2960\n",
      "3      negative   -0.7568\n",
      "4      negative   -0.8750\n",
      "...         ...       ...\n",
      "37417  negative   -0.1531\n",
      "37418  positive    0.5719\n",
      "37419   neutral    0.0000\n",
      "37420  positive    0.4215\n",
      "37421  positive    0.6590\n",
      "\n",
      "[37422 rows x 2 columns]\n"
     ]
    }
   ],
   "source": [
    "# Print sentiment scores for the specified stock\n",
    "print(f\"Sentiment Scores for {stock_name}:\")\n",
    "print(stock_data[[ 'sentiment', 'compound']])"
   ]
  },
  {
   "cell_type": "code",
   "execution_count": 9,
   "id": "439c2015",
   "metadata": {
    "execution": {
     "iopub.execute_input": "2024-03-16T04:36:45.035785Z",
     "iopub.status.busy": "2024-03-16T04:36:45.035343Z",
     "iopub.status.idle": "2024-03-16T04:36:45.059197Z",
     "shell.execute_reply": "2024-03-16T04:36:45.056571Z"
    },
    "papermill": {
     "duration": 0.036756,
     "end_time": "2024-03-16T04:36:45.062802",
     "exception": false,
     "start_time": "2024-03-16T04:36:45.026046",
     "status": "completed"
    },
    "tags": []
   },
   "outputs": [
    {
     "name": "stdout",
     "output_type": "stream",
     "text": [
      "Sentiment Counts for TSLA:\n",
      "sentiment\n",
      "positive    18263\n",
      "neutral     11132\n",
      "negative     8027\n",
      "Name: count, dtype: int64\n"
     ]
    }
   ],
   "source": [
    "# Print sentiment counts for the specified stock\n",
    "print(f\"Sentiment Counts for {stock_name}:\")\n",
    "print(stock_data['sentiment'].value_counts())"
   ]
  },
  {
   "cell_type": "code",
   "execution_count": 10,
   "id": "7b44ffe6",
   "metadata": {
    "execution": {
     "iopub.execute_input": "2024-03-16T04:36:45.080897Z",
     "iopub.status.busy": "2024-03-16T04:36:45.079382Z",
     "iopub.status.idle": "2024-03-16T04:36:45.151156Z",
     "shell.execute_reply": "2024-03-16T04:36:45.149716Z"
    },
    "papermill": {
     "duration": 0.083711,
     "end_time": "2024-03-16T04:36:45.153956",
     "exception": false,
     "start_time": "2024-03-16T04:36:45.070245",
     "status": "completed"
    },
    "tags": []
   },
   "outputs": [],
   "source": [
    "# Aggregate sentiment scores by stock/company\n",
    "sentiment_by_stock = df.groupby('Stock Name')['sentiment'].value_counts().unstack()\n",
    "sentiment_by_company = df.groupby('Company Name')['sentiment'].value_counts().unstack()"
   ]
  },
  {
   "cell_type": "code",
   "execution_count": 11,
   "id": "8501087c",
   "metadata": {
    "execution": {
     "iopub.execute_input": "2024-03-16T04:36:45.169243Z",
     "iopub.status.busy": "2024-03-16T04:36:45.168817Z",
     "iopub.status.idle": "2024-03-16T04:36:45.178288Z",
     "shell.execute_reply": "2024-03-16T04:36:45.176529Z"
    },
    "papermill": {
     "duration": 0.020653,
     "end_time": "2024-03-16T04:36:45.181071",
     "exception": false,
     "start_time": "2024-03-16T04:36:45.160418",
     "status": "completed"
    },
    "tags": []
   },
   "outputs": [
    {
     "name": "stdout",
     "output_type": "stream",
     "text": [
      "Sentiment by Stock:\n",
      "sentiment   negative  neutral  positive\n",
      "Stock Name                             \n",
      "AAPL            1041     1743      2272\n",
      "AMD              334      641      1252\n",
      "AMZN             839     1104      2146\n",
      "BA                55      171       173\n",
      "BX                 4       15        31\n",
      "COST              66      139       188\n",
      "CRM               27       93       113\n",
      "DIS              112      268       255\n",
      "ENPH              25       45       146\n",
      "F                  9        6        16\n",
      "GOOG             219      412       660\n",
      "INTC              62      100       153\n",
      "KO                31      124       155\n",
      "META             595      877      1279\n",
      "MSFT             839     1104      2146\n",
      "NFLX             437      568       722\n",
      "NIO              318     1211      1492\n",
      "NOC                9        6        16\n",
      "PG               839     1104      2146\n",
      "PYPL             148      279       416\n",
      "TSLA            8027    11132     18263\n",
      "TSM             1972     3533      5529\n",
      "VZ                14       46        63\n",
      "XPEV              23       67       135\n",
      "ZS                18       59       116\n"
     ]
    }
   ],
   "source": [
    "# Print results\n",
    "print(\"Sentiment by Stock:\")\n",
    "print(sentiment_by_stock)"
   ]
  },
  {
   "cell_type": "code",
   "execution_count": 12,
   "id": "852c0de8",
   "metadata": {
    "execution": {
     "iopub.execute_input": "2024-03-16T04:36:45.196348Z",
     "iopub.status.busy": "2024-03-16T04:36:45.195251Z",
     "iopub.status.idle": "2024-03-16T04:36:45.203870Z",
     "shell.execute_reply": "2024-03-16T04:36:45.202429Z"
    },
    "papermill": {
     "duration": 0.019072,
     "end_time": "2024-03-16T04:36:45.206607",
     "exception": false,
     "start_time": "2024-03-16T04:36:45.187535",
     "status": "completed"
    },
    "tags": []
   },
   "outputs": [
    {
     "name": "stdout",
     "output_type": "stream",
     "text": [
      "\n",
      "Sentiment by Company:\n",
      "sentiment                                           negative  neutral  \\\n",
      "Company Name                                                            \n",
      "Advanced Micro Devices, Inc.                             334      641   \n",
      "Alphabet Inc.                                            219      412   \n",
      "Amazon.com, Inc.                                         839     1104   \n",
      "Apple Inc.                                              1041     1743   \n",
      "Blackstone Inc.                                            4       15   \n",
      "Costco Wholesale Corporation                              66      139   \n",
      "Enphase Energy, Inc.                                      25       45   \n",
      "Ford Motor Company                                         9        6   \n",
      "Intel Corporation                                         62      100   \n",
      "Meta Platforms, Inc.                                     595      877   \n",
      "Microsoft Corporation                                    839     1104   \n",
      "NIO Inc.                                                 318     1211   \n",
      "Netflix, Inc.                                            437      568   \n",
      "Northrop Grumman Corporation                               9        6   \n",
      "PayPal Holdings, Inc.                                    148      279   \n",
      "Procter & Gamble Company                                 839     1104   \n",
      "Salesforce, Inc.                                          27       93   \n",
      "Taiwan Semiconductor Manufacturing Company Limited      1972     3533   \n",
      "Tesla, Inc.                                             8027    11132   \n",
      "The Boeing Company                                        55      171   \n",
      "The Coca-Cola Company                                     31      124   \n",
      "The Walt Disney Company                                  112      268   \n",
      "Verizon Communications Inc.                               14       46   \n",
      "XPeng Inc.                                                23       67   \n",
      "Zscaler, Inc.                                             18       59   \n",
      "\n",
      "sentiment                                           positive  \n",
      "Company Name                                                  \n",
      "Advanced Micro Devices, Inc.                            1252  \n",
      "Alphabet Inc.                                            660  \n",
      "Amazon.com, Inc.                                        2146  \n",
      "Apple Inc.                                              2272  \n",
      "Blackstone Inc.                                           31  \n",
      "Costco Wholesale Corporation                             188  \n",
      "Enphase Energy, Inc.                                     146  \n",
      "Ford Motor Company                                        16  \n",
      "Intel Corporation                                        153  \n",
      "Meta Platforms, Inc.                                    1279  \n",
      "Microsoft Corporation                                   2146  \n",
      "NIO Inc.                                                1492  \n",
      "Netflix, Inc.                                            722  \n",
      "Northrop Grumman Corporation                              16  \n",
      "PayPal Holdings, Inc.                                    416  \n",
      "Procter & Gamble Company                                2146  \n",
      "Salesforce, Inc.                                         113  \n",
      "Taiwan Semiconductor Manufacturing Company Limited      5529  \n",
      "Tesla, Inc.                                            18263  \n",
      "The Boeing Company                                       173  \n",
      "The Coca-Cola Company                                    155  \n",
      "The Walt Disney Company                                  255  \n",
      "Verizon Communications Inc.                               63  \n",
      "XPeng Inc.                                               135  \n",
      "Zscaler, Inc.                                            116  \n"
     ]
    }
   ],
   "source": [
    "print(\"\\nSentiment by Company:\")\n",
    "print(sentiment_by_company)"
   ]
  },
  {
   "cell_type": "code",
   "execution_count": null,
   "id": "2454e900",
   "metadata": {
    "papermill": {
     "duration": 0.006221,
     "end_time": "2024-03-16T04:36:45.219178",
     "exception": false,
     "start_time": "2024-03-16T04:36:45.212957",
     "status": "completed"
    },
    "tags": []
   },
   "outputs": [],
   "source": []
  }
 ],
 "metadata": {
  "kaggle": {
   "accelerator": "none",
   "dataSources": [
    {
     "datasetId": 2706935,
     "sourceId": 4664772,
     "sourceType": "datasetVersion"
    }
   ],
   "dockerImageVersionId": 30664,
   "isGpuEnabled": false,
   "isInternetEnabled": true,
   "language": "python",
   "sourceType": "notebook"
  },
  "kernelspec": {
   "display_name": "Python 3",
   "language": "python",
   "name": "python3"
  },
  "language_info": {
   "codemirror_mode": {
    "name": "ipython",
    "version": 3
   },
   "file_extension": ".py",
   "mimetype": "text/x-python",
   "name": "python",
   "nbconvert_exporter": "python",
   "pygments_lexer": "ipython3",
   "version": "3.10.13"
  },
  "papermill": {
   "default_parameters": {},
   "duration": 47.823284,
   "end_time": "2024-03-16T04:36:45.947972",
   "environment_variables": {},
   "exception": null,
   "input_path": "__notebook__.ipynb",
   "output_path": "__notebook__.ipynb",
   "parameters": {},
   "start_time": "2024-03-16T04:35:58.124688",
   "version": "2.5.0"
  }
 },
 "nbformat": 4,
 "nbformat_minor": 5
}
